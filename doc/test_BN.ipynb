{
 "cells": [
  {
   "cell_type": "markdown",
   "metadata": {},
   "source": [
    "# Bayes Nets\n",
    "** A Julia package for Bayesian Networks **\n",
    "\n",
    "A Bayesian Network (BN) represents a probability distribution over a set of variables, $P(x_1, x_2, \\ldots, x_n)$. They leverage variable relations in order to efficiently decompose the joint distribution into smaller conditional probability distributions.\n",
    "\n",
    "A BN is defined by a directed acyclic graph and a set of conditional probability distributions. Each node in the graph corresponds to a variable $x_i$ and is associated with a conditional probability distribution $P(x_i \\mid \\text{parents}(x_i))$."
   ]
  },
  {
   "cell_type": "markdown",
   "metadata": {},
   "source": [
    "## Installation"
   ]
  },
  {
   "cell_type": "code",
   "execution_count": 1,
   "metadata": {
    "collapsed": false
   },
   "outputs": [],
   "source": [
    "Pkg.add(\"BayesNets\");"
   ]
  },
  {
   "cell_type": "markdown",
   "metadata": {},
   "source": [
    "Visualization of network structure is provided by the TikzGraphs package. Installation requirements (e.g., PGF/Tikz and pdf2svg) are provided [here](http://nbviewer.ipython.org/github/sisl/TikzGraphs.jl/blob/master/doc/TikzGraphs.ipynb)."
   ]
  },
  {
   "cell_type": "markdown",
   "metadata": {},
   "source": [
    "## Use"
   ]
  },
  {
   "cell_type": "code",
   "execution_count": 1,
   "metadata": {
    "collapsed": false
   },
   "outputs": [],
   "source": [
    "srand(0) # seed the random number generator to 0, for a reproducible demonstration\n",
    "using BayesNets"
   ]
  },
  {
   "cell_type": "markdown",
   "metadata": {},
   "source": [
    "## Representation"
   ]
  },
  {
   "cell_type": "markdown",
   "metadata": {},
   "source": [
    "Bayesian Networks are represented with the `BayesNet` type. This type contains the directed acyclic graph (a LightTables.DiGraph) and a list of conditional probability distributions (a list of CPDs)"
   ]
  },
  {
   "cell_type": "markdown",
   "metadata": {},
   "source": [
    "Here we construct the BayesNet $a \\rightarrow b$, with Gaussians $a$ and $b$:\n",
    "\n",
    "$$\n",
    "a = \\mathcal{N}(0,1) \\qquad b = \\mathcal{N}(2a +1,1)\n",
    "$$"
   ]
  },
  {
   "cell_type": "code",
   "execution_count": 2,
   "metadata": {
    "collapsed": false
   },
   "outputs": [
    {
     "data": {
      "image/svg+xml": [
       "<?xml version=\"1.0\" encoding=\"UTF-8\"?>\n",
       "<svg xmlns=\"http://www.w3.org/2000/svg\" xmlns:xlink=\"http://www.w3.org/1999/xlink\" width=\"12.18pt\" height=\"40.786pt\" viewBox=\"0 0 12.18 40.786\" version=\"1.1\">\n",
       "<defs>\n",
       "<g>\n",
       "<symbol overflow=\"visible\" id=\"glyph-1465430143386795-0-0\">\n",
       "<path style=\"stroke:none;\" d=\"\"/>\n",
       "</symbol>\n",
       "<symbol overflow=\"visible\" id=\"glyph-1465430143386795-0-1\">\n",
       "<path style=\"stroke:none;\" d=\"M 5.015625 -1.015625 L 5.015625 -1.71875 L 4.359375 -1.71875 L 4.359375 -1.015625 C 4.359375 -0.4375 4.3125 -0.515625 4.203125 -0.515625 C 3.875 -0.515625 4.03125 -0.828125 4.03125 -0.875 L 4.03125 -2.875 C 4.03125 -3.296875 3.984375 -3.78125 3.625 -4.140625 C 3.234375 -4.53125 2.59375 -4.734375 2.109375 -4.734375 C 1.296875 -4.734375 0.40625 -4.125 0.40625 -3.46875 C 0.40625 -3.171875 0.8125 -2.875 1.0625 -2.875 C 1.34375 -2.875 1.71875 -3.203125 1.71875 -3.453125 C 1.71875 -3.578125 1.46875 -4.046875 1.328125 -4.046875 C 1.421875 -4.171875 1.78125 -4.25 2.09375 -4.25 C 2.578125 -4.25 2.953125 -3.984375 2.953125 -3.09375 L 2.953125 -2.859375 C 2.640625 -2.84375 1.9375 -2.8125 1.3125 -2.515625 C 0.5625 -2.171875 0.125 -1.515625 0.125 -1.078125 C 0.125 -0.265625 1.28125 0.109375 1.90625 0.109375 C 2.578125 0.109375 3.234375 -0.421875 3.421875 -0.890625 L 3.015625 -0.890625 C 3.0625 -0.484375 3.53125 0.0625 4 0.0625 C 4.203125 0.0625 5.015625 -0.203125 5.015625 -1.015625 Z M 2.953125 -1.53125 C 2.953125 -0.578125 2.4375 -0.375 1.984375 -0.375 C 1.5 -0.375 1.28125 -0.59375 1.28125 -1.09375 C 1.28125 -1.640625 1.5 -2.328125 2.953125 -2.375 Z M 2.953125 -1.53125 \"/>\n",
       "</symbol>\n",
       "<symbol overflow=\"visible\" id=\"glyph-1465430143386795-0-2\">\n",
       "<path style=\"stroke:none;\" d=\"M 5.390625 -2.28125 C 5.390625 -3.546875 4.21875 -4.671875 3.078125 -4.671875 C 2.296875 -4.671875 1.734375 -4.171875 1.578125 -3.984375 L 1.90625 -3.890625 L 1.90625 -7.203125 L 0.078125 -7.0625 L 0.078125 -6.5 C 0.984375 -6.5 0.859375 -6.5625 0.859375 -6.078125 L 0.859375 0 L 1.421875 0 L 1.671875 -0.421875 C 1.671875 -0.421875 2.234375 0.109375 2.96875 0.109375 C 4.15625 0.109375 5.390625 -1 5.390625 -2.28125 Z M 4.171875 -2.296875 C 4.171875 -1.921875 4.203125 -1.421875 3.921875 -0.984375 C 3.703125 -0.671875 3.46875 -0.375 2.9375 -0.375 C 2.484375 -0.375 2.265625 -0.578125 2.03125 -0.953125 C 1.890625 -1.15625 1.9375 -1.09375 1.9375 -1.265625 L 1.9375 -3.3125 C 1.9375 -3.515625 1.890625 -3.421875 2 -3.59375 C 2.375 -4.140625 2.796875 -4.1875 3.03125 -4.1875 C 3.484375 -4.1875 3.703125 -3.96875 3.9375 -3.59375 C 4.203125 -3.1875 4.171875 -2.703125 4.171875 -2.296875 Z M 4.171875 -2.296875 \"/>\n",
       "</symbol>\n",
       "</g>\n",
       "</defs>\n",
       "<g id=\"surface1\">\n",
       "<path style=\"fill:none;stroke-width:0.3985;stroke-linecap:butt;stroke-linejoin:miter;stroke:rgb(0%,0%,0%);stroke-opacity:1;stroke-miterlimit:10;\" d=\"M -0.00015625 -5.807063 L -0.00015625 -20.857844 \" transform=\"matrix(1,0,0,-1,6.09,5.607)\"/>\n",
       "<path style=\"fill:none;stroke-width:0.31879;stroke-linecap:round;stroke-linejoin:round;stroke:rgb(0%,0%,0%);stroke-opacity:1;stroke-miterlimit:10;\" d=\"M -1.194299 1.593594 C -1.096643 0.995938 0.00101375 0.101406 0.297889 -0.00015625 C 0.00101375 -0.0978125 -1.096643 -0.99625 -1.194299 -1.593906 \" transform=\"matrix(0,1,1,0,6.09,26.46383)\"/>\n",
       "<g style=\"fill:rgb(0%,0%,0%);fill-opacity:1;\">\n",
       "  <use xlink:href=\"#glyph-1465430143386795-0-1\" x=\"3.599\" y=\"7.784\"/>\n",
       "</g>\n",
       "<g style=\"fill:rgb(0%,0%,0%);fill-opacity:1;\">\n",
       "  <use xlink:href=\"#glyph-1465430143386795-0-2\" x=\"3.321\" y=\"37.356\"/>\n",
       "</g>\n",
       "</g>\n",
       "</svg>\n",
       "\n"
      ],
      "text/plain": [
       "BayesNets.BayesNet{BayesNets.CPDs.CPD{D<:Distributions.Distribution{F<:Distributions.VariateForm,S<:Distributions.ValueSupport},C<:BayesNets.CPDs.CPDForm}}({2, 1} directed graph,BayesNets.CPDs.CPD[BayesNets.CPDs.CPD{Distributions.Normal{Float64},BayesNets.CPDs.StaticCPD}(:a,Symbol[],Distributions.Normal{Float64}(μ=0.0, σ=1.0),BayesNets.CPDs.StaticCPD()),BayesNets.CPDs.CPD{Distributions.Normal{Float64},BayesNets.CPDs.LinearGaussianCPD}(:b,[:a],Distributions.Normal{Float64}(μ=0.0, σ=1.0),BayesNets.CPDs.LinearGaussianCPD([2.0],1.0))],Dict(:a=>1,:b=>2))"
      ]
     },
     "execution_count": 2,
     "metadata": {},
     "output_type": "execute_result"
    }
   ],
   "source": [
    "bn = BayesNet()\n",
    "push!(bn, CPD(:a, Normal(0.0,1.0), StaticCPD()))\n",
    "push!(bn, CPD(:b, [:a], Normal(0.0,1.0), LinearGaussianCPD([2.0], 1.0)))"
   ]
  },
  {
   "cell_type": "markdown",
   "metadata": {},
   "source": [
    "## Conditional Probability Distributions"
   ]
  },
  {
   "cell_type": "markdown",
   "metadata": {},
   "source": [
    "Conditional Probablity Distributions, $P(x_i \\mid \\text{parents}(x_i))$, are defined in BayesNets.CPDs. Each CPD knows its own name, the names of its parents, and is associated with a distribution from Distributions.jl.\n",
    "\n",
    "Each CPD also has a `CPDForm`. This defines how the CPD is learned and updated given its parents."
   ]
  },
  {
   "cell_type": "markdown",
   "metadata": {},
   "source": [
    "| `CPDForm`           | Description |\n",
    "| ------------------- | ----------- |\n",
    "| `StaticCPD`         | Any `Distributions.distribution`, indepedent of any parents |\n",
    "| `CategoricalCPD`    | Categorical distribution, assumes integer target and parents in $1:N$ |\n",
    "| `LinearGaussianCPD` | Linear Gaussian, assumes target and parents are numeric |"
   ]
  },
  {
   "cell_type": "markdown",
   "metadata": {},
   "source": [
    "Each CPD can be learned from data using `fit`.\n",
    "\n",
    "Here we learn the same network as above."
   ]
  },
  {
   "cell_type": "code",
   "execution_count": 3,
   "metadata": {
    "collapsed": false
   },
   "outputs": [
    {
     "data": {
      "image/svg+xml": [
       "<?xml version=\"1.0\" encoding=\"UTF-8\"?>\n",
       "<svg xmlns=\"http://www.w3.org/2000/svg\" xmlns:xlink=\"http://www.w3.org/1999/xlink\" width=\"12.18pt\" height=\"40.786pt\" viewBox=\"0 0 12.18 40.786\" version=\"1.1\">\n",
       "<defs>\n",
       "<g>\n",
       "<symbol overflow=\"visible\" id=\"glyph-1465430143386796-0-0\">\n",
       "<path style=\"stroke:none;\" d=\"\"/>\n",
       "</symbol>\n",
       "<symbol overflow=\"visible\" id=\"glyph-1465430143386796-0-1\">\n",
       "<path style=\"stroke:none;\" d=\"M 5.015625 -1.015625 L 5.015625 -1.71875 L 4.359375 -1.71875 L 4.359375 -1.015625 C 4.359375 -0.4375 4.3125 -0.515625 4.203125 -0.515625 C 3.875 -0.515625 4.03125 -0.828125 4.03125 -0.875 L 4.03125 -2.875 C 4.03125 -3.296875 3.984375 -3.78125 3.625 -4.140625 C 3.234375 -4.53125 2.59375 -4.734375 2.109375 -4.734375 C 1.296875 -4.734375 0.40625 -4.125 0.40625 -3.46875 C 0.40625 -3.171875 0.8125 -2.875 1.0625 -2.875 C 1.34375 -2.875 1.71875 -3.203125 1.71875 -3.453125 C 1.71875 -3.578125 1.46875 -4.046875 1.328125 -4.046875 C 1.421875 -4.171875 1.78125 -4.25 2.09375 -4.25 C 2.578125 -4.25 2.953125 -3.984375 2.953125 -3.09375 L 2.953125 -2.859375 C 2.640625 -2.84375 1.9375 -2.8125 1.3125 -2.515625 C 0.5625 -2.171875 0.125 -1.515625 0.125 -1.078125 C 0.125 -0.265625 1.28125 0.109375 1.90625 0.109375 C 2.578125 0.109375 3.234375 -0.421875 3.421875 -0.890625 L 3.015625 -0.890625 C 3.0625 -0.484375 3.53125 0.0625 4 0.0625 C 4.203125 0.0625 5.015625 -0.203125 5.015625 -1.015625 Z M 2.953125 -1.53125 C 2.953125 -0.578125 2.4375 -0.375 1.984375 -0.375 C 1.5 -0.375 1.28125 -0.59375 1.28125 -1.09375 C 1.28125 -1.640625 1.5 -2.328125 2.953125 -2.375 Z M 2.953125 -1.53125 \"/>\n",
       "</symbol>\n",
       "<symbol overflow=\"visible\" id=\"glyph-1465430143386796-0-2\">\n",
       "<path style=\"stroke:none;\" d=\"M 5.390625 -2.28125 C 5.390625 -3.546875 4.21875 -4.671875 3.078125 -4.671875 C 2.296875 -4.671875 1.734375 -4.171875 1.578125 -3.984375 L 1.90625 -3.890625 L 1.90625 -7.203125 L 0.078125 -7.0625 L 0.078125 -6.5 C 0.984375 -6.5 0.859375 -6.5625 0.859375 -6.078125 L 0.859375 0 L 1.421875 0 L 1.671875 -0.421875 C 1.671875 -0.421875 2.234375 0.109375 2.96875 0.109375 C 4.15625 0.109375 5.390625 -1 5.390625 -2.28125 Z M 4.171875 -2.296875 C 4.171875 -1.921875 4.203125 -1.421875 3.921875 -0.984375 C 3.703125 -0.671875 3.46875 -0.375 2.9375 -0.375 C 2.484375 -0.375 2.265625 -0.578125 2.03125 -0.953125 C 1.890625 -1.15625 1.9375 -1.09375 1.9375 -1.265625 L 1.9375 -3.3125 C 1.9375 -3.515625 1.890625 -3.421875 2 -3.59375 C 2.375 -4.140625 2.796875 -4.1875 3.03125 -4.1875 C 3.484375 -4.1875 3.703125 -3.96875 3.9375 -3.59375 C 4.203125 -3.1875 4.171875 -2.703125 4.171875 -2.296875 Z M 4.171875 -2.296875 \"/>\n",
       "</symbol>\n",
       "</g>\n",
       "</defs>\n",
       "<g id=\"surface1\">\n",
       "<path style=\"fill:none;stroke-width:0.3985;stroke-linecap:butt;stroke-linejoin:miter;stroke:rgb(0%,0%,0%);stroke-opacity:1;stroke-miterlimit:10;\" d=\"M -0.00015625 -5.807063 L -0.00015625 -20.857844 \" transform=\"matrix(1,0,0,-1,6.09,5.607)\"/>\n",
       "<path style=\"fill:none;stroke-width:0.31879;stroke-linecap:round;stroke-linejoin:round;stroke:rgb(0%,0%,0%);stroke-opacity:1;stroke-miterlimit:10;\" d=\"M -1.194299 1.593594 C -1.096643 0.995938 0.00101375 0.101406 0.297889 -0.00015625 C 0.00101375 -0.0978125 -1.096643 -0.99625 -1.194299 -1.593906 \" transform=\"matrix(0,1,1,0,6.09,26.46383)\"/>\n",
       "<g style=\"fill:rgb(0%,0%,0%);fill-opacity:1;\">\n",
       "  <use xlink:href=\"#glyph-1465430143386796-0-1\" x=\"3.599\" y=\"7.784\"/>\n",
       "</g>\n",
       "<g style=\"fill:rgb(0%,0%,0%);fill-opacity:1;\">\n",
       "  <use xlink:href=\"#glyph-1465430143386796-0-2\" x=\"3.321\" y=\"37.356\"/>\n",
       "</g>\n",
       "</g>\n",
       "</svg>\n",
       "\n"
      ],
      "text/plain": [
       "BayesNets.BayesNet{BayesNets.CPDs.CPD{Distributions.Normal{Float64},C<:BayesNets.CPDs.CPDForm}}({2, 1} directed graph,BayesNets.CPDs.CPD{Distributions.Normal{Float64},C<:BayesNets.CPDs.CPDForm}[BayesNets.CPDs.CPD{Distributions.Normal{Float64},BayesNets.CPDs.StaticCPD}(:a,Symbol[],Distributions.Normal{Float64}(μ=-0.02482048154996803, σ=1.050997926141669),BayesNets.CPDs.StaticCPD()),BayesNets.CPDs.CPD{Distributions.Normal{Float64},BayesNets.CPDs.LinearGaussianCPD}(:b,[:a],Distributions.Normal{Float64}(μ=NaN, σ=2.2361096378352023),BayesNets.CPDs.LinearGaussianCPD([1.8672649732525974],0.8499071008125145))],Dict(:a=>1,:b=>2))"
      ]
     },
     "execution_count": 3,
     "metadata": {},
     "output_type": "execute_result"
    }
   ],
   "source": [
    "a = randn(100)\n",
    "b = randn(100) .+ 2*a .+ 1\n",
    "\n",
    "data = DataFrame(a=a, b=b)\n",
    "cpdA = fit(CPD{Normal, StaticCPD}, data, :a)\n",
    "cpdB = fit(CPD{Normal{Float64}, LinearGaussianCPD}, data, :b, [:a])\n",
    "\n",
    "bn2 = BayesNet([cpdA, cpdB])"
   ]
  },
  {
   "cell_type": "markdown",
   "metadata": {},
   "source": [
    "Each `CPD` implements a set of core functionality, allowing for obtaining the target name `name(cpd)`, the parents `parents(cpd)`, etc.\n",
    "\n",
    "Calling `distribution(cpd)` will give you the _current_ form of the CPD's internal distribution."
   ]
  },
  {
   "cell_type": "code",
   "execution_count": 4,
   "metadata": {
    "collapsed": false
   },
   "outputs": [
    {
     "data": {
      "text/plain": [
       "Distributions.Normal{Float64}(μ=NaN, σ=2.2361096378352023)"
      ]
     },
     "execution_count": 4,
     "metadata": {},
     "output_type": "execute_result"
    }
   ],
   "source": [
    "distribution(cpdB)"
   ]
  },
  {
   "cell_type": "markdown",
   "metadata": {},
   "source": [
    "The CPD must be set from an assignment using `condition!`:\n",
    "\n"
   ]
  },
  {
   "cell_type": "code",
   "execution_count": 5,
   "metadata": {
    "collapsed": false
   },
   "outputs": [
    {
     "data": {
      "text/plain": [
       "Distributions.Normal{Float64}(μ=2.717172074065112, σ=2.2361096378352023)"
      ]
     },
     "execution_count": 5,
     "metadata": {},
     "output_type": "execute_result"
    }
   ],
   "source": [
    "condition!(cpdB, Assignment(:a=>1.0))"
   ]
  },
  {
   "cell_type": "markdown",
   "metadata": {},
   "source": [
    "Several functions conveniently condition and then produce their return values"
   ]
  },
  {
   "cell_type": "code",
   "execution_count": 6,
   "metadata": {
    "collapsed": false
   },
   "outputs": [],
   "source": [
    "rand!(cpdB, Assignment(:a=>1.0)) # condition and then sample\n",
    "pdf!(cpdB, Assignment(:a=>1.0, :b=>3.0)) # condition and then compute pdf(distribution, 3)\n",
    "logpdf!(cpdB, Assignment(:a=>1.0, :b=>3.0)) # condition and then compute logpdf(distribution, 3);"
   ]
  },
  {
   "cell_type": "markdown",
   "metadata": {},
   "source": [
    "## Likelihood \n",
    "\n",
    "A Bayesian Network represents a joint probability distribution, $P(x_1, x_2, \\ldots, x_n)$. \n",
    "Assignments are represented as dictionaries mapping variable names (Symbols) to variable values.\n",
    "We can evaluate probabilities as we would with Distributions.jl, only we use exclamation points as we modify the internal state when we condition:"
   ]
  },
  {
   "cell_type": "code",
   "execution_count": 7,
   "metadata": {
    "collapsed": false
   },
   "outputs": [
    {
     "data": {
      "text/plain": [
       "0.1404537443096252"
      ]
     },
     "execution_count": 7,
     "metadata": {},
     "output_type": "execute_result"
    }
   ],
   "source": [
    "pdf!(bn, Assignment(:a=>0.5, :b=>2.0)) # evaluate the probability density"
   ]
  },
  {
   "cell_type": "markdown",
   "metadata": {},
   "source": [
    "We can also evaluate the likelihood of a dataset"
   ]
  },
  {
   "cell_type": "code",
   "execution_count": 8,
   "metadata": {
    "collapsed": false
   },
   "outputs": [],
   "source": [
    "data = DataFrame(a=[0.5,1.0,2.0], b=[2.0,3.0,5.0])\n",
    "pdf!(bn, data)    #  0.000292\n",
    "logpdf!(bn, data) # -8.138631;"
   ]
  },
  {
   "cell_type": "markdown",
   "metadata": {},
   "source": [
    "## Sampling\n",
    "\n",
    "Assignments can be sampled from a `BayesNet`."
   ]
  },
  {
   "cell_type": "code",
   "execution_count": 9,
   "metadata": {
    "collapsed": false
   },
   "outputs": [
    {
     "data": {
      "text/plain": [
       "Dict{Symbol,Any} with 2 entries:\n",
       "  :a => 0.06467678861102817\n",
       "  :b => 2.0369902749018216"
      ]
     },
     "execution_count": 9,
     "metadata": {},
     "output_type": "execute_result"
    }
   ],
   "source": [
    "rand(bn)"
   ]
  },
  {
   "cell_type": "code",
   "execution_count": 10,
   "metadata": {
    "collapsed": false
   },
   "outputs": [
    {
     "data": {
      "text/html": [
       "<table class=\"data-frame\"><tr><th></th><th>a</th><th>b</th></tr><tr><th>1</th><td>0.7208393833885718</td><td>1.755114617840761</td></tr><tr><th>2</th><td>-0.23769600340388383</td><td>-0.5082776994852769</td></tr><tr><th>3</th><td>-1.800550173390088</td><td>-3.765562352742042</td></tr><tr><th>4</th><td>1.2115810954933637</td><td>3.5158655210501832</td></tr><tr><th>5</th><td>-1.273598490270002</td><td>-0.28660356660207764</td></tr></table>"
      ],
      "text/plain": [
       "5×2 DataFrames.DataFrame\n",
       "│ Row │ a         │ b         │\n",
       "├─────┼───────────┼───────────┤\n",
       "│ 1   │ 0.720839  │ 1.75511   │\n",
       "│ 2   │ -0.237696 │ -0.508278 │\n",
       "│ 3   │ -1.80055  │ -3.76556  │\n",
       "│ 4   │ 1.21158   │ 3.51587   │\n",
       "│ 5   │ -1.2736   │ -0.286604 │"
      ]
     },
     "execution_count": 10,
     "metadata": {},
     "output_type": "execute_result"
    }
   ],
   "source": [
    "rand(bn, 5)"
   ]
  },
  {
   "cell_type": "markdown",
   "metadata": {},
   "source": [
    "## Parameter Learning\n",
    "\n",
    "BayesNets.jl supports parameter learning for an entire graph."
   ]
  },
  {
   "cell_type": "code",
   "execution_count": 11,
   "metadata": {
    "collapsed": false
   },
   "outputs": [
    {
     "data": {
      "image/svg+xml": [
       "<?xml version=\"1.0\" encoding=\"UTF-8\"?>\n",
       "<svg xmlns=\"http://www.w3.org/2000/svg\" xmlns:xlink=\"http://www.w3.org/1999/xlink\" width=\"12.18pt\" height=\"40.786pt\" viewBox=\"0 0 12.18 40.786\" version=\"1.1\">\n",
       "<defs>\n",
       "<g>\n",
       "<symbol overflow=\"visible\" id=\"glyph-1465430143386797-0-0\">\n",
       "<path style=\"stroke:none;\" d=\"\"/>\n",
       "</symbol>\n",
       "<symbol overflow=\"visible\" id=\"glyph-1465430143386797-0-1\">\n",
       "<path style=\"stroke:none;\" d=\"M 5.015625 -1.015625 L 5.015625 -1.71875 L 4.359375 -1.71875 L 4.359375 -1.015625 C 4.359375 -0.4375 4.3125 -0.515625 4.203125 -0.515625 C 3.875 -0.515625 4.03125 -0.828125 4.03125 -0.875 L 4.03125 -2.875 C 4.03125 -3.296875 3.984375 -3.78125 3.625 -4.140625 C 3.234375 -4.53125 2.59375 -4.734375 2.109375 -4.734375 C 1.296875 -4.734375 0.40625 -4.125 0.40625 -3.46875 C 0.40625 -3.171875 0.8125 -2.875 1.0625 -2.875 C 1.34375 -2.875 1.71875 -3.203125 1.71875 -3.453125 C 1.71875 -3.578125 1.46875 -4.046875 1.328125 -4.046875 C 1.421875 -4.171875 1.78125 -4.25 2.09375 -4.25 C 2.578125 -4.25 2.953125 -3.984375 2.953125 -3.09375 L 2.953125 -2.859375 C 2.640625 -2.84375 1.9375 -2.8125 1.3125 -2.515625 C 0.5625 -2.171875 0.125 -1.515625 0.125 -1.078125 C 0.125 -0.265625 1.28125 0.109375 1.90625 0.109375 C 2.578125 0.109375 3.234375 -0.421875 3.421875 -0.890625 L 3.015625 -0.890625 C 3.0625 -0.484375 3.53125 0.0625 4 0.0625 C 4.203125 0.0625 5.015625 -0.203125 5.015625 -1.015625 Z M 2.953125 -1.53125 C 2.953125 -0.578125 2.4375 -0.375 1.984375 -0.375 C 1.5 -0.375 1.28125 -0.59375 1.28125 -1.09375 C 1.28125 -1.640625 1.5 -2.328125 2.953125 -2.375 Z M 2.953125 -1.53125 \"/>\n",
       "</symbol>\n",
       "<symbol overflow=\"visible\" id=\"glyph-1465430143386797-0-2\">\n",
       "<path style=\"stroke:none;\" d=\"M 5.390625 -2.28125 C 5.390625 -3.546875 4.21875 -4.671875 3.078125 -4.671875 C 2.296875 -4.671875 1.734375 -4.171875 1.578125 -3.984375 L 1.90625 -3.890625 L 1.90625 -7.203125 L 0.078125 -7.0625 L 0.078125 -6.5 C 0.984375 -6.5 0.859375 -6.5625 0.859375 -6.078125 L 0.859375 0 L 1.421875 0 L 1.671875 -0.421875 C 1.671875 -0.421875 2.234375 0.109375 2.96875 0.109375 C 4.15625 0.109375 5.390625 -1 5.390625 -2.28125 Z M 4.171875 -2.296875 C 4.171875 -1.921875 4.203125 -1.421875 3.921875 -0.984375 C 3.703125 -0.671875 3.46875 -0.375 2.9375 -0.375 C 2.484375 -0.375 2.265625 -0.578125 2.03125 -0.953125 C 1.890625 -1.15625 1.9375 -1.09375 1.9375 -1.265625 L 1.9375 -3.3125 C 1.9375 -3.515625 1.890625 -3.421875 2 -3.59375 C 2.375 -4.140625 2.796875 -4.1875 3.03125 -4.1875 C 3.484375 -4.1875 3.703125 -3.96875 3.9375 -3.59375 C 4.203125 -3.1875 4.171875 -2.703125 4.171875 -2.296875 Z M 4.171875 -2.296875 \"/>\n",
       "</symbol>\n",
       "</g>\n",
       "</defs>\n",
       "<g id=\"surface1\">\n",
       "<path style=\"fill:none;stroke-width:0.3985;stroke-linecap:butt;stroke-linejoin:miter;stroke:rgb(0%,0%,0%);stroke-opacity:1;stroke-miterlimit:10;\" d=\"M -0.00015625 -5.807063 L -0.00015625 -20.857844 \" transform=\"matrix(1,0,0,-1,6.09,5.607)\"/>\n",
       "<path style=\"fill:none;stroke-width:0.31879;stroke-linecap:round;stroke-linejoin:round;stroke:rgb(0%,0%,0%);stroke-opacity:1;stroke-miterlimit:10;\" d=\"M -1.194299 1.593594 C -1.096643 0.995938 0.00101375 0.101406 0.297889 -0.00015625 C 0.00101375 -0.0978125 -1.096643 -0.99625 -1.194299 -1.593906 \" transform=\"matrix(0,1,1,0,6.09,26.46383)\"/>\n",
       "<g style=\"fill:rgb(0%,0%,0%);fill-opacity:1;\">\n",
       "  <use xlink:href=\"#glyph-1465430143386797-0-1\" x=\"3.599\" y=\"7.784\"/>\n",
       "</g>\n",
       "<g style=\"fill:rgb(0%,0%,0%);fill-opacity:1;\">\n",
       "  <use xlink:href=\"#glyph-1465430143386797-0-2\" x=\"3.321\" y=\"37.356\"/>\n",
       "</g>\n",
       "</g>\n",
       "</svg>\n",
       "\n"
      ],
      "text/plain": [
       "BayesNets.BayesNet{BayesNets.CPDs.CPD{D<:Distributions.Distribution{F<:Distributions.VariateForm,S<:Distributions.ValueSupport},C<:BayesNets.CPDs.CPDForm}}({2, 1} directed graph,BayesNets.CPDs.CPD[BayesNets.CPDs.CPD{Distributions.Normal{Float64},BayesNets.CPDs.StaticCPD}(:a,Symbol[],Distributions.Normal{Float64}(μ=1.1666666666666667, σ=0.6236095644623235),BayesNets.CPDs.StaticCPD()),BayesNets.CPDs.CPD{Distributions.Normal{Float64},BayesNets.CPDs.LinearGaussianCPD}(:b,[:a],Distributions.Normal{Float64}(μ=NaN, σ=1.5275252316519465),BayesNets.CPDs.LinearGaussianCPD([1.9999999999999993],1.0000000000000013))],Dict(:a=>1,:b=>2))"
      ]
     },
     "execution_count": 11,
     "metadata": {},
     "output_type": "execute_result"
    }
   ],
   "source": [
    "dag = DAG(2)\n",
    "add_edge!(dag, 1, 2)\n",
    "fit(BayesNet, data, dag, [CPD{Normal, StaticCPD}, CPD{Normal{Float64}, LinearGaussianCPD}]) # specify each node's CPD type individually"
   ]
  },
  {
   "cell_type": "code",
   "execution_count": 12,
   "metadata": {
    "collapsed": false
   },
   "outputs": [
    {
     "data": {
      "image/svg+xml": [
       "<?xml version=\"1.0\" encoding=\"UTF-8\"?>\n",
       "<svg xmlns=\"http://www.w3.org/2000/svg\" xmlns:xlink=\"http://www.w3.org/1999/xlink\" width=\"12.18pt\" height=\"40.786pt\" viewBox=\"0 0 12.18 40.786\" version=\"1.1\">\n",
       "<defs>\n",
       "<g>\n",
       "<symbol overflow=\"visible\" id=\"glyph-1465430143386798-0-0\">\n",
       "<path style=\"stroke:none;\" d=\"\"/>\n",
       "</symbol>\n",
       "<symbol overflow=\"visible\" id=\"glyph-1465430143386798-0-1\">\n",
       "<path style=\"stroke:none;\" d=\"M 5.015625 -1.015625 L 5.015625 -1.71875 L 4.359375 -1.71875 L 4.359375 -1.015625 C 4.359375 -0.4375 4.3125 -0.515625 4.203125 -0.515625 C 3.875 -0.515625 4.03125 -0.828125 4.03125 -0.875 L 4.03125 -2.875 C 4.03125 -3.296875 3.984375 -3.78125 3.625 -4.140625 C 3.234375 -4.53125 2.59375 -4.734375 2.109375 -4.734375 C 1.296875 -4.734375 0.40625 -4.125 0.40625 -3.46875 C 0.40625 -3.171875 0.8125 -2.875 1.0625 -2.875 C 1.34375 -2.875 1.71875 -3.203125 1.71875 -3.453125 C 1.71875 -3.578125 1.46875 -4.046875 1.328125 -4.046875 C 1.421875 -4.171875 1.78125 -4.25 2.09375 -4.25 C 2.578125 -4.25 2.953125 -3.984375 2.953125 -3.09375 L 2.953125 -2.859375 C 2.640625 -2.84375 1.9375 -2.8125 1.3125 -2.515625 C 0.5625 -2.171875 0.125 -1.515625 0.125 -1.078125 C 0.125 -0.265625 1.28125 0.109375 1.90625 0.109375 C 2.578125 0.109375 3.234375 -0.421875 3.421875 -0.890625 L 3.015625 -0.890625 C 3.0625 -0.484375 3.53125 0.0625 4 0.0625 C 4.203125 0.0625 5.015625 -0.203125 5.015625 -1.015625 Z M 2.953125 -1.53125 C 2.953125 -0.578125 2.4375 -0.375 1.984375 -0.375 C 1.5 -0.375 1.28125 -0.59375 1.28125 -1.09375 C 1.28125 -1.640625 1.5 -2.328125 2.953125 -2.375 Z M 2.953125 -1.53125 \"/>\n",
       "</symbol>\n",
       "<symbol overflow=\"visible\" id=\"glyph-1465430143386798-0-2\">\n",
       "<path style=\"stroke:none;\" d=\"M 5.390625 -2.28125 C 5.390625 -3.546875 4.21875 -4.671875 3.078125 -4.671875 C 2.296875 -4.671875 1.734375 -4.171875 1.578125 -3.984375 L 1.90625 -3.890625 L 1.90625 -7.203125 L 0.078125 -7.0625 L 0.078125 -6.5 C 0.984375 -6.5 0.859375 -6.5625 0.859375 -6.078125 L 0.859375 0 L 1.421875 0 L 1.671875 -0.421875 C 1.671875 -0.421875 2.234375 0.109375 2.96875 0.109375 C 4.15625 0.109375 5.390625 -1 5.390625 -2.28125 Z M 4.171875 -2.296875 C 4.171875 -1.921875 4.203125 -1.421875 3.921875 -0.984375 C 3.703125 -0.671875 3.46875 -0.375 2.9375 -0.375 C 2.484375 -0.375 2.265625 -0.578125 2.03125 -0.953125 C 1.890625 -1.15625 1.9375 -1.09375 1.9375 -1.265625 L 1.9375 -3.3125 C 1.9375 -3.515625 1.890625 -3.421875 2 -3.59375 C 2.375 -4.140625 2.796875 -4.1875 3.03125 -4.1875 C 3.484375 -4.1875 3.703125 -3.96875 3.9375 -3.59375 C 4.203125 -3.1875 4.171875 -2.703125 4.171875 -2.296875 Z M 4.171875 -2.296875 \"/>\n",
       "</symbol>\n",
       "</g>\n",
       "</defs>\n",
       "<g id=\"surface1\">\n",
       "<path style=\"fill:none;stroke-width:0.3985;stroke-linecap:butt;stroke-linejoin:miter;stroke:rgb(0%,0%,0%);stroke-opacity:1;stroke-miterlimit:10;\" d=\"M -0.00015625 -5.807063 L -0.00015625 -20.857844 \" transform=\"matrix(1,0,0,-1,6.09,5.607)\"/>\n",
       "<path style=\"fill:none;stroke-width:0.31879;stroke-linecap:round;stroke-linejoin:round;stroke:rgb(0%,0%,0%);stroke-opacity:1;stroke-miterlimit:10;\" d=\"M -1.194299 1.593594 C -1.096643 0.995938 0.00101375 0.101406 0.297889 -0.00015625 C 0.00101375 -0.0978125 -1.096643 -0.99625 -1.194299 -1.593906 \" transform=\"matrix(0,1,1,0,6.09,26.46383)\"/>\n",
       "<g style=\"fill:rgb(0%,0%,0%);fill-opacity:1;\">\n",
       "  <use xlink:href=\"#glyph-1465430143386798-0-1\" x=\"3.599\" y=\"7.784\"/>\n",
       "</g>\n",
       "<g style=\"fill:rgb(0%,0%,0%);fill-opacity:1;\">\n",
       "  <use xlink:href=\"#glyph-1465430143386798-0-2\" x=\"3.321\" y=\"37.356\"/>\n",
       "</g>\n",
       "</g>\n",
       "</svg>\n",
       "\n"
      ],
      "text/plain": [
       "BayesNets.BayesNet{BayesNets.CPDs.CPD{Distributions.Normal{Float64},BayesNets.CPDs.LinearGaussianCPD}}({2, 1} directed graph,[BayesNets.CPDs.CPD{Distributions.Normal{Float64},BayesNets.CPDs.LinearGaussianCPD}(:a,Symbol[],Distributions.Normal{Float64}(μ=1.1666666666666667, σ=0.7637626158259733),BayesNets.CPDs.LinearGaussianCPD(Float64[],1.1666666666666667)),BayesNets.CPDs.CPD{Distributions.Normal{Float64},BayesNets.CPDs.LinearGaussianCPD}(:b,[:a],Distributions.Normal{Float64}(μ=NaN, σ=1.5275252316519465),BayesNets.CPDs.LinearGaussianCPD([1.9999999999999993],1.0000000000000013))],Dict(:a=>1,:b=>2))"
      ]
     },
     "execution_count": 12,
     "metadata": {},
     "output_type": "execute_result"
    }
   ],
   "source": [
    "fit(BayesNet, data, dag, CPD{Normal{Float64}, LinearGaussianCPD}) # specify a single CPD type for all nodes"
   ]
  },
  {
   "cell_type": "markdown",
   "metadata": {},
   "source": [
    "Fitting can be done for specific BayesNets types as well:"
   ]
  },
  {
   "cell_type": "code",
   "execution_count": 13,
   "metadata": {
    "collapsed": false
   },
   "outputs": [
    {
     "data": {
      "image/svg+xml": [
       "<?xml version=\"1.0\" encoding=\"UTF-8\"?>\n",
       "<svg xmlns=\"http://www.w3.org/2000/svg\" xmlns:xlink=\"http://www.w3.org/1999/xlink\" width=\"40.248pt\" height=\"67.907pt\" viewBox=\"0 0 40.248 67.907\" version=\"1.1\">\n",
       "<defs>\n",
       "<g>\n",
       "<symbol overflow=\"visible\" id=\"glyph-1465430143386799-0-0\">\n",
       "<path style=\"stroke:none;\" d=\"\"/>\n",
       "</symbol>\n",
       "<symbol overflow=\"visible\" id=\"glyph-1465430143386799-0-1\">\n",
       "<path style=\"stroke:none;\" d=\"M 4.34375 -1.3125 C 4.34375 -1.421875 4.03125 -1.5625 4 -1.5625 C 3.921875 -1.5625 3.703125 -1.453125 3.671875 -1.390625 C 3.390625 -0.453125 2.9375 -0.40625 2.578125 -0.40625 C 2.046875 -0.40625 1.359375 -0.703125 1.359375 -2.296875 C 1.359375 -3.921875 1.984375 -4.21875 2.515625 -4.21875 C 2.609375 -4.21875 3.09375 -4.25 3.234375 -4.09375 C 3.171875 -4.09375 2.90625 -3.65625 2.90625 -3.515625 C 2.90625 -3.265625 3.296875 -2.9375 3.5625 -2.9375 C 3.828125 -2.9375 4.234375 -3.234375 4.234375 -3.53125 C 4.234375 -4.203125 3.265625 -4.734375 2.5 -4.734375 C 1.25 -4.734375 0.140625 -3.515625 0.140625 -2.28125 C 0.140625 -1 1.328125 0.109375 2.484375 0.109375 C 3.8125 0.109375 4.34375 -1.21875 4.34375 -1.3125 Z M 4.34375 -1.3125 \"/>\n",
       "</symbol>\n",
       "<symbol overflow=\"visible\" id=\"glyph-1465430143386799-0-2\">\n",
       "<path style=\"stroke:none;\" d=\"M 5.390625 -2.28125 C 5.390625 -3.546875 4.21875 -4.671875 3.078125 -4.671875 C 2.296875 -4.671875 1.734375 -4.171875 1.578125 -3.984375 L 1.90625 -3.890625 L 1.90625 -7.203125 L 0.078125 -7.0625 L 0.078125 -6.5 C 0.984375 -6.5 0.859375 -6.5625 0.859375 -6.078125 L 0.859375 0 L 1.421875 0 L 1.671875 -0.421875 C 1.671875 -0.421875 2.234375 0.109375 2.96875 0.109375 C 4.15625 0.109375 5.390625 -1 5.390625 -2.28125 Z M 4.171875 -2.296875 C 4.171875 -1.921875 4.203125 -1.421875 3.921875 -0.984375 C 3.703125 -0.671875 3.46875 -0.375 2.9375 -0.375 C 2.484375 -0.375 2.265625 -0.578125 2.03125 -0.953125 C 1.890625 -1.15625 1.9375 -1.09375 1.9375 -1.265625 L 1.9375 -3.3125 C 1.9375 -3.515625 1.890625 -3.421875 2 -3.59375 C 2.375 -4.140625 2.796875 -4.1875 3.03125 -4.1875 C 3.484375 -4.1875 3.703125 -3.96875 3.9375 -3.59375 C 4.203125 -3.1875 4.171875 -2.703125 4.171875 -2.296875 Z M 4.171875 -2.296875 \"/>\n",
       "</symbol>\n",
       "<symbol overflow=\"visible\" id=\"glyph-1465430143386799-0-3\">\n",
       "<path style=\"stroke:none;\" d=\"M 5.015625 -1.015625 L 5.015625 -1.71875 L 4.359375 -1.71875 L 4.359375 -1.015625 C 4.359375 -0.4375 4.3125 -0.515625 4.203125 -0.515625 C 3.875 -0.515625 4.03125 -0.828125 4.03125 -0.875 L 4.03125 -2.875 C 4.03125 -3.296875 3.984375 -3.78125 3.625 -4.140625 C 3.234375 -4.53125 2.59375 -4.734375 2.109375 -4.734375 C 1.296875 -4.734375 0.40625 -4.125 0.40625 -3.46875 C 0.40625 -3.171875 0.8125 -2.875 1.0625 -2.875 C 1.34375 -2.875 1.71875 -3.203125 1.71875 -3.453125 C 1.71875 -3.578125 1.46875 -4.046875 1.328125 -4.046875 C 1.421875 -4.171875 1.78125 -4.25 2.09375 -4.25 C 2.578125 -4.25 2.953125 -3.984375 2.953125 -3.09375 L 2.953125 -2.859375 C 2.640625 -2.84375 1.9375 -2.8125 1.3125 -2.515625 C 0.5625 -2.171875 0.125 -1.515625 0.125 -1.078125 C 0.125 -0.265625 1.28125 0.109375 1.90625 0.109375 C 2.578125 0.109375 3.234375 -0.421875 3.421875 -0.890625 L 3.015625 -0.890625 C 3.0625 -0.484375 3.53125 0.0625 4 0.0625 C 4.203125 0.0625 5.015625 -0.203125 5.015625 -1.015625 Z M 2.953125 -1.53125 C 2.953125 -0.578125 2.4375 -0.375 1.984375 -0.375 C 1.5 -0.375 1.28125 -0.59375 1.28125 -1.09375 C 1.28125 -1.640625 1.5 -2.328125 2.953125 -2.375 Z M 2.953125 -1.53125 \"/>\n",
       "</symbol>\n",
       "</g>\n",
       "</defs>\n",
       "<g id=\"surface1\">\n",
       "<path style=\"fill:none;stroke-width:0.3985;stroke-linecap:butt;stroke-linejoin:miter;stroke:rgb(0%,0%,0%);stroke-opacity:1;stroke-miterlimit:10;\" d=\"M -5.729969 -5.732844 L -21.733875 -21.732844 \" transform=\"matrix(1,0,0,-1,34.437,5.607)\"/>\n",
       "<path style=\"fill:none;stroke-width:0.31879;stroke-linecap:round;stroke-linejoin:round;stroke:rgb(0%,0%,0%);stroke-opacity:1;stroke-miterlimit:10;\" d=\"M -1.195915 1.593058 C -1.096481 0.996426 0.0000988107 0.0987093 0.298414 -0.000731326 C 0.0000974044 -0.100168 -1.096495 -0.997869 -1.195938 -1.5945 \" transform=\"matrix(-0.70709,0.7071,0.7071,0.70709,12.70371,27.34029)\"/>\n",
       "<path style=\"fill:none;stroke-width:0.3985;stroke-linecap:butt;stroke-linejoin:miter;stroke:rgb(0%,0%,0%);stroke-opacity:1;stroke-miterlimit:10;\" d=\"M 0.0005 -5.807062 L 0.0005 -50.428156 \" transform=\"matrix(1,0,0,-1,34.437,5.607)\"/>\n",
       "<path style=\"fill:none;stroke-width:0.31879;stroke-linecap:round;stroke-linejoin:round;stroke:rgb(0%,0%,0%);stroke-opacity:1;stroke-miterlimit:10;\" d=\"M -1.196216 1.59425 C -1.094654 0.996594 -0.00090375 0.0981563 0.299877 0.0005 C -0.00090375 -0.101062 -1.094654 -0.995594 -1.196216 -1.59325 \" transform=\"matrix(0,1,1,0,34.437,56.03606)\"/>\n",
       "<path style=\"fill:none;stroke-width:0.3985;stroke-linecap:butt;stroke-linejoin:miter;stroke:rgb(0%,0%,0%);stroke-opacity:1;stroke-miterlimit:10;\" d=\"M -22.058094 -34.635187 L -6.128406 -50.564875 \" transform=\"matrix(1,0,0,-1,34.437,5.607)\"/>\n",
       "<path style=\"fill:none;stroke-width:0.31879;stroke-linecap:round;stroke-linejoin:round;stroke:rgb(0%,0%,0%);stroke-opacity:1;stroke-miterlimit:10;\" d=\"M -1.193456 1.59401 C -1.0968 0.994635 0.00248383 0.0996886 0.300786 0.000245162 C -0.000283953 -0.101943 -1.094095 -0.996828 -1.193547 -1.593435 \" transform=\"matrix(0.70714,0.7071,0.7071,-0.70714,28.30666,56.1703)\"/>\n",
       "<g style=\"fill:rgb(0%,0%,0%);fill-opacity:1;\">\n",
       "  <use xlink:href=\"#glyph-1465430143386799-0-1\" x=\"32.225\" y=\"7.784\"/>\n",
       "</g>\n",
       "<g style=\"fill:rgb(0%,0%,0%);fill-opacity:1;\">\n",
       "  <use xlink:href=\"#glyph-1465430143386799-0-2\" x=\"3.321\" y=\"37.356\"/>\n",
       "</g>\n",
       "<g style=\"fill:rgb(0%,0%,0%);fill-opacity:1;\">\n",
       "  <use xlink:href=\"#glyph-1465430143386799-0-3\" x=\"31.946\" y=\"64.477\"/>\n",
       "</g>\n",
       "</g>\n",
       "</svg>\n",
       "\n"
      ],
      "text/plain": [
       "BayesNets.BayesNet{BayesNets.CPDs.CPD{Distributions.Categorical,BayesNets.CPDs.CategoricalCPD}}({3, 3} directed graph,[BayesNets.CPDs.CPD{Distributions.Categorical,BayesNets.CPDs.CategoricalCPD}(:c,Symbol[],Distributions.Categorical(K=3, p=[0.3333333333333333,0.3333333333333333,0.3333333333333333]),BayesNets.CPDs.CategoricalCPD(#undef,#undef,#undef)),BayesNets.CPDs.CPD{Distributions.Categorical,BayesNets.CPDs.CategoricalCPD}(:b,[:c],Distributions.Categorical(K=2, p=[0.5,0.5]),BayesNets.CPDs.CategoricalCPD([140081936103888],(3,),2x3 Array{Float64,2}:\n",
       " 0.75  0.25  0.75\n",
       " 0.25  0.75  0.25)),BayesNets.CPDs.CPD{Distributions.Categorical,BayesNets.CPDs.CategoricalCPD}(:a,[:c,:b],Distributions.Categorical(K=2, p=[0.5,0.5]),BayesNets.CPDs.CategoricalCPD([140081916396496,0],(3,2),2x6 Array{Float64,2}:\n",
       " 1.0  1.0  1.0  0.0  0.666667  0.0\n",
       " 0.0  0.0  0.0  1.0  0.333333  1.0))],Dict(:c=>1,:b=>2,:a=>3))"
      ]
     },
     "execution_count": 13,
     "metadata": {},
     "output_type": "execute_result"
    }
   ],
   "source": [
    "data = DataFrame(c=[1,1,1,1,2,2,2,2,3,3,3,3], \n",
    "                 b=[1,1,1,2,2,2,2,1,1,2,1,1],\n",
    "                 a=[1,1,1,2,1,1,2,1,1,2,1,1])\n",
    "\n",
    "dag = DAG(3)\n",
    "add_edge!(dag, 1, 2)\n",
    "add_edge!(dag, 1, 3)\n",
    "add_edge!(dag, 2, 3)\n",
    "\n",
    "fit(DiscreteBayesNet, data, dag)"
   ]
  },
  {
   "cell_type": "markdown",
   "metadata": {},
   "source": [
    "## Structure Learning\n",
    "\n",
    "Structure learning can be done as well."
   ]
  },
  {
   "cell_type": "code",
   "execution_count": 14,
   "metadata": {
    "collapsed": false
   },
   "outputs": [
    {
     "data": {
      "image/svg+xml": [
       "<?xml version=\"1.0\" encoding=\"UTF-8\"?>\n",
       "<svg xmlns=\"http://www.w3.org/2000/svg\" xmlns:xlink=\"http://www.w3.org/1999/xlink\" width=\"40.248pt\" height=\"67.907pt\" viewBox=\"0 0 40.248 67.907\" version=\"1.1\">\n",
       "<defs>\n",
       "<g>\n",
       "<symbol overflow=\"visible\" id=\"glyph-1465430143386800-0-0\">\n",
       "<path style=\"stroke:none;\" d=\"\"/>\n",
       "</symbol>\n",
       "<symbol overflow=\"visible\" id=\"glyph-1465430143386800-0-1\">\n",
       "<path style=\"stroke:none;\" d=\"M 5.015625 -1.015625 L 5.015625 -1.71875 L 4.359375 -1.71875 L 4.359375 -1.015625 C 4.359375 -0.4375 4.3125 -0.515625 4.203125 -0.515625 C 3.875 -0.515625 4.03125 -0.828125 4.03125 -0.875 L 4.03125 -2.875 C 4.03125 -3.296875 3.984375 -3.78125 3.625 -4.140625 C 3.234375 -4.53125 2.59375 -4.734375 2.109375 -4.734375 C 1.296875 -4.734375 0.40625 -4.125 0.40625 -3.46875 C 0.40625 -3.171875 0.8125 -2.875 1.0625 -2.875 C 1.34375 -2.875 1.71875 -3.203125 1.71875 -3.453125 C 1.71875 -3.578125 1.46875 -4.046875 1.328125 -4.046875 C 1.421875 -4.171875 1.78125 -4.25 2.09375 -4.25 C 2.578125 -4.25 2.953125 -3.984375 2.953125 -3.09375 L 2.953125 -2.859375 C 2.640625 -2.84375 1.9375 -2.8125 1.3125 -2.515625 C 0.5625 -2.171875 0.125 -1.515625 0.125 -1.078125 C 0.125 -0.265625 1.28125 0.109375 1.90625 0.109375 C 2.578125 0.109375 3.234375 -0.421875 3.421875 -0.890625 L 3.015625 -0.890625 C 3.0625 -0.484375 3.53125 0.0625 4 0.0625 C 4.203125 0.0625 5.015625 -0.203125 5.015625 -1.015625 Z M 2.953125 -1.53125 C 2.953125 -0.578125 2.4375 -0.375 1.984375 -0.375 C 1.5 -0.375 1.28125 -0.59375 1.28125 -1.09375 C 1.28125 -1.640625 1.5 -2.328125 2.953125 -2.375 Z M 2.953125 -1.53125 \"/>\n",
       "</symbol>\n",
       "<symbol overflow=\"visible\" id=\"glyph-1465430143386800-0-2\">\n",
       "<path style=\"stroke:none;\" d=\"M 5.390625 -2.28125 C 5.390625 -3.546875 4.21875 -4.671875 3.078125 -4.671875 C 2.296875 -4.671875 1.734375 -4.171875 1.578125 -3.984375 L 1.90625 -3.890625 L 1.90625 -7.203125 L 0.078125 -7.0625 L 0.078125 -6.5 C 0.984375 -6.5 0.859375 -6.5625 0.859375 -6.078125 L 0.859375 0 L 1.421875 0 L 1.671875 -0.421875 C 1.671875 -0.421875 2.234375 0.109375 2.96875 0.109375 C 4.15625 0.109375 5.390625 -1 5.390625 -2.28125 Z M 4.171875 -2.296875 C 4.171875 -1.921875 4.203125 -1.421875 3.921875 -0.984375 C 3.703125 -0.671875 3.46875 -0.375 2.9375 -0.375 C 2.484375 -0.375 2.265625 -0.578125 2.03125 -0.953125 C 1.890625 -1.15625 1.9375 -1.09375 1.9375 -1.265625 L 1.9375 -3.3125 C 1.9375 -3.515625 1.890625 -3.421875 2 -3.59375 C 2.375 -4.140625 2.796875 -4.1875 3.03125 -4.1875 C 3.484375 -4.1875 3.703125 -3.96875 3.9375 -3.59375 C 4.203125 -3.1875 4.171875 -2.703125 4.171875 -2.296875 Z M 4.171875 -2.296875 \"/>\n",
       "</symbol>\n",
       "<symbol overflow=\"visible\" id=\"glyph-1465430143386800-0-3\">\n",
       "<path style=\"stroke:none;\" d=\"M 4.34375 -1.3125 C 4.34375 -1.421875 4.03125 -1.5625 4 -1.5625 C 3.921875 -1.5625 3.703125 -1.453125 3.671875 -1.390625 C 3.390625 -0.453125 2.9375 -0.40625 2.578125 -0.40625 C 2.046875 -0.40625 1.359375 -0.703125 1.359375 -2.296875 C 1.359375 -3.921875 1.984375 -4.21875 2.515625 -4.21875 C 2.609375 -4.21875 3.09375 -4.25 3.234375 -4.09375 C 3.171875 -4.09375 2.90625 -3.65625 2.90625 -3.515625 C 2.90625 -3.265625 3.296875 -2.9375 3.5625 -2.9375 C 3.828125 -2.9375 4.234375 -3.234375 4.234375 -3.53125 C 4.234375 -4.203125 3.265625 -4.734375 2.5 -4.734375 C 1.25 -4.734375 0.140625 -3.515625 0.140625 -2.28125 C 0.140625 -1 1.328125 0.109375 2.484375 0.109375 C 3.8125 0.109375 4.34375 -1.21875 4.34375 -1.3125 Z M 4.34375 -1.3125 \"/>\n",
       "</symbol>\n",
       "</g>\n",
       "</defs>\n",
       "<g id=\"surface1\">\n",
       "<path style=\"fill:none;stroke-width:0.3985;stroke-linecap:butt;stroke-linejoin:miter;stroke:rgb(0%,0%,0%);stroke-opacity:1;stroke-miterlimit:10;\" d=\"M -5.808094 -5.807062 L -21.733875 -21.732844 \" transform=\"matrix(1,0,0,-1,34.437,5.607)\"/>\n",
       "<path style=\"fill:none;stroke-width:0.31879;stroke-linecap:round;stroke-linejoin:round;stroke:rgb(0%,0%,0%);stroke-opacity:1;stroke-miterlimit:10;\" d=\"M -1.195908 1.592938 C -1.096456 0.996331 0.000116531 0.0986846 0.298424 -0.000741962 C 0.000122156 -0.100185 -1.0964 -0.997894 -1.195818 -1.594507 \" transform=\"matrix(-0.70714,0.7071,0.7071,0.70714,12.70374,27.34029)\"/>\n",
       "<path style=\"fill:none;stroke-width:0.3985;stroke-linecap:butt;stroke-linejoin:miter;stroke:rgb(0%,0%,0%);stroke-opacity:1;stroke-miterlimit:10;\" d=\"M 0.0005 -5.807062 L 0.0005 -50.428156 \" transform=\"matrix(1,0,0,-1,34.437,5.607)\"/>\n",
       "<path style=\"fill:none;stroke-width:0.31879;stroke-linecap:round;stroke-linejoin:round;stroke:rgb(0%,0%,0%);stroke-opacity:1;stroke-miterlimit:10;\" d=\"M -1.196216 1.59425 C -1.094654 0.996594 -0.00090375 0.0981563 0.299877 0.0005 C -0.00090375 -0.101062 -1.094654 -0.995594 -1.196216 -1.59325 \" transform=\"matrix(0,1,1,0,34.437,56.03606)\"/>\n",
       "<path style=\"fill:none;stroke-width:0.3985;stroke-linecap:butt;stroke-linejoin:miter;stroke:rgb(0%,0%,0%);stroke-opacity:1;stroke-miterlimit:10;\" d=\"M -22.058094 -34.635187 L -6.054187 -50.639094 \" transform=\"matrix(1,0,0,-1,34.437,5.607)\"/>\n",
       "<path style=\"fill:none;stroke-width:0.31879;stroke-linecap:round;stroke-linejoin:round;stroke:rgb(0%,0%,0%);stroke-opacity:1;stroke-miterlimit:10;\" d=\"M -1.194248 1.594006 C -1.094814 0.997374 0.00176585 0.0996569 0.300081 0.000216201 C 0.00176444 -0.0992202 -1.094828 -0.996922 -1.194271 -1.593552 \" transform=\"matrix(0.7071,0.70709,0.70709,-0.7071,28.38141,56.245)\"/>\n",
       "<g style=\"fill:rgb(0%,0%,0%);fill-opacity:1;\">\n",
       "  <use xlink:href=\"#glyph-1465430143386800-0-1\" x=\"31.946\" y=\"7.784\"/>\n",
       "</g>\n",
       "<g style=\"fill:rgb(0%,0%,0%);fill-opacity:1;\">\n",
       "  <use xlink:href=\"#glyph-1465430143386800-0-2\" x=\"3.321\" y=\"37.356\"/>\n",
       "</g>\n",
       "<g style=\"fill:rgb(0%,0%,0%);fill-opacity:1;\">\n",
       "  <use xlink:href=\"#glyph-1465430143386800-0-3\" x=\"32.225\" y=\"64.477\"/>\n",
       "</g>\n",
       "</g>\n",
       "</svg>\n",
       "\n"
      ],
      "text/plain": [
       "BayesNets.BayesNet{BayesNets.CPDs.CPD{Distributions.Categorical,BayesNets.CPDs.CategoricalCPD}}({3, 3} directed graph,[BayesNets.CPDs.CPD{Distributions.Categorical,BayesNets.CPDs.CategoricalCPD}(:a,Symbol[],Distributions.Categorical(K=2, p=[0.75,0.25]),BayesNets.CPDs.CategoricalCPD(#undef,#undef,#undef)),BayesNets.CPDs.CPD{Distributions.Categorical,BayesNets.CPDs.CategoricalCPD}(:b,[:a],Distributions.Categorical(K=2, p=[0.5,0.5]),BayesNets.CPDs.CategoricalCPD([140081858805776],(2,),2x2 Array{Float64,2}:\n",
       " 0.777778  0.0\n",
       " 0.222222  1.0)),BayesNets.CPDs.CPD{Distributions.Categorical,BayesNets.CPDs.CategoricalCPD}(:c,[:b,:a],Distributions.Categorical(K=3, p=[0.3333333333333333,0.3333333333333333,0.3333333333333333]),BayesNets.CPDs.CategoricalCPD([140081858822352,140081859032432],(2,2),3x4 Array{Float64,2}:\n",
       " 0.428571  0.0  0.333333  0.333333\n",
       " 0.142857  1.0  0.333333  0.333333\n",
       " 0.428571  0.0  0.333333  0.333333))],Dict(:c=>3,:a=>1,:b=>2))"
      ]
     },
     "execution_count": 14,
     "metadata": {},
     "output_type": "execute_result"
    }
   ],
   "source": [
    "cache = ScoreComponentCache(data)\n",
    "params = BayesNets.GreedyHillClimbing(cache, max_n_parents=3, prior=UniformPrior())\n",
    "bn = fit(DiscreteBayesNet, data, params)"
   ]
  },
  {
   "cell_type": "markdown",
   "metadata": {},
   "source": [
    "A whole suite of features are supported for DiscreteBayesNets."
   ]
  },
  {
   "cell_type": "code",
   "execution_count": 15,
   "metadata": {
    "collapsed": false
   },
   "outputs": [
    {
     "data": {
      "text/plain": [
       "-31.28804624550449"
      ]
     },
     "execution_count": 15,
     "metadata": {},
     "output_type": "execute_result"
    }
   ],
   "source": [
    "bayesian_score(bn, data, params.prior) # compute the Bayesian score of the data under the BayesNet"
   ]
  },
  {
   "cell_type": "code",
   "execution_count": 16,
   "metadata": {
    "collapsed": false
   },
   "outputs": [
    {
     "data": {
      "text/html": [
       "<table class=\"data-frame\"><tr><th></th><th>a</th><th>count</th></tr><tr><th>1</th><td>1</td><td>9</td></tr><tr><th>2</th><td>2</td><td>3</td></tr></table>"
      ],
      "text/plain": [
       "2×2 DataFrames.DataFrame\n",
       "│ Row │ a │ count │\n",
       "├─────┼───┼───────┤\n",
       "│ 1   │ 1 │ 9     │\n",
       "│ 2   │ 2 │ 3     │"
      ]
     },
     "execution_count": 16,
     "metadata": {},
     "output_type": "execute_result"
    }
   ],
   "source": [
    "count(bn, :a, data) # obtain a list of counts for the node"
   ]
  },
  {
   "cell_type": "code",
   "execution_count": 17,
   "metadata": {
    "collapsed": false
   },
   "outputs": [
    {
     "data": {
      "text/plain": [
       "3-element Array{Array{Int64,2},1}:\n",
       " 3x1 Array{Int64,2}:\n",
       " 4\n",
       " 4\n",
       " 4                           \n",
       " 2x3 Array{Int64,2}:\n",
       " 3  1  3\n",
       " 1  3  1                  \n",
       " 2x6 Array{Int64,2}:\n",
       " 3  1  3  0  2  0\n",
       " 0  0  0  1  1  1"
      ]
     },
     "execution_count": 17,
     "metadata": {},
     "output_type": "execute_result"
    }
   ],
   "source": [
    "statistics(bn.dag, data) # sufficient statistics from a discrete dataset"
   ]
  },
  {
   "cell_type": "code",
   "execution_count": 18,
   "metadata": {
    "collapsed": false
   },
   "outputs": [
    {
     "data": {
      "text/html": [
       "<table class=\"data-frame\"><tr><th></th><th>a</th><th>b</th><th>p</th></tr><tr><th>1</th><td>1</td><td>1</td><td>0.7777777777777778</td></tr><tr><th>2</th><td>2</td><td>1</td><td>0.0</td></tr><tr><th>3</th><td>1</td><td>2</td><td>0.2222222222222222</td></tr><tr><th>4</th><td>2</td><td>2</td><td>1.0</td></tr></table>"
      ],
      "text/plain": [
       "4×3 DataFrames.DataFrame\n",
       "│ Row │ a │ b │ p        │\n",
       "├─────┼───┼───┼──────────┤\n",
       "│ 1   │ 1 │ 1 │ 0.777778 │\n",
       "│ 2   │ 2 │ 1 │ 0.0      │\n",
       "│ 3   │ 1 │ 2 │ 0.222222 │\n",
       "│ 4   │ 2 │ 2 │ 1.0      │"
      ]
     },
     "execution_count": 18,
     "metadata": {},
     "output_type": "execute_result"
    }
   ],
   "source": [
    "table(bn, :b) # obtain the factor table for a node"
   ]
  },
  {
   "cell_type": "code",
   "execution_count": 19,
   "metadata": {
    "collapsed": false
   },
   "outputs": [
    {
     "data": {
      "text/html": [
       "<table class=\"data-frame\"><tr><th></th><th>b</th><th>a</th><th>c</th><th>p</th></tr><tr><th>1</th><td>1</td><td>1</td><td>1</td><td>0.42857142857142855</td></tr><tr><th>2</th><td>2</td><td>1</td><td>1</td><td>0.0</td></tr><tr><th>3</th><td>1</td><td>1</td><td>2</td><td>0.14285714285714285</td></tr><tr><th>4</th><td>2</td><td>1</td><td>2</td><td>1.0</td></tr><tr><th>5</th><td>1</td><td>1</td><td>3</td><td>0.42857142857142855</td></tr><tr><th>6</th><td>2</td><td>1</td><td>3</td><td>0.0</td></tr></table>"
      ],
      "text/plain": [
       "6×4 DataFrames.DataFrame\n",
       "│ Row │ b │ a │ c │ p        │\n",
       "├─────┼───┼───┼───┼──────────┤\n",
       "│ 1   │ 1 │ 1 │ 1 │ 0.428571 │\n",
       "│ 2   │ 2 │ 1 │ 1 │ 0.0      │\n",
       "│ 3   │ 1 │ 1 │ 2 │ 0.142857 │\n",
       "│ 4   │ 2 │ 1 │ 2 │ 1.0      │\n",
       "│ 5   │ 1 │ 1 │ 3 │ 0.428571 │\n",
       "│ 6   │ 2 │ 1 │ 3 │ 0.0      │"
      ]
     },
     "execution_count": 19,
     "metadata": {},
     "output_type": "execute_result"
    }
   ],
   "source": [
    "table(bn, :c, Assignment(:a=>1)) # obtain a factor table matching a particular assignment"
   ]
  },
  {
   "cell_type": "code",
   "execution_count": null,
   "metadata": {
    "collapsed": true
   },
   "outputs": [],
   "source": []
  }
 ],
 "metadata": {
  "kernelspec": {
   "display_name": "Julia 0.4.1",
   "language": "julia",
   "name": "julia-0.4"
  },
  "language_info": {
   "file_extension": ".jl",
   "mimetype": "application/julia",
   "name": "julia",
   "version": "0.4.1"
  }
 },
 "nbformat": 4,
 "nbformat_minor": 0
}
