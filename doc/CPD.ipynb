{
 "cells": [
  {
   "cell_type": "code",
   "execution_count": 2,
   "metadata": {
    "collapsed": false
   },
   "outputs": [],
   "source": [
    "using Base.Test\n",
    "include(\"../src/CPDs/cpds.jl\")\n",
    "using .CPDs"
   ]
  },
  {
   "cell_type": "code",
   "execution_count": 5,
   "metadata": {
    "collapsed": false
   },
   "outputs": [],
   "source": [
    "# StaticCPD\n",
    "let\n",
    "    df = DataFrame(a=randn(100))\n",
    "    cpd = fit(StaticCPD{Normal}, df, :a)\n",
    "    @test name(cpd) == :a\n",
    "    @test parentless(cpd)\n",
    "    @test parents(cpd) == NodeName[]\n",
    "    @test disttype(cpd) <: Normal\n",
    "    @test nparams(cpd) == 2\n",
    "    @test isa(cpd(), Normal)\n",
    "    @test pdf(cpd, :a=>0.5) > 0.2\n",
    "    @test pdf(cpd, :a=>0.0) > pdf(cpd, :a=>0.5)\n",
    "    @test logpdf(cpd, :a=>0.5) > log(0.2)\n",
    "end"
   ]
  },
  {
   "cell_type": "code",
   "execution_count": 6,
   "metadata": {
    "collapsed": false
   },
   "outputs": [],
   "source": [
    "# Linear Gaussian\n",
    "let\n",
    "\n",
    "    # no parents\n",
    "    let\n",
    "        df = DataFrame(a=randn(100))\n",
    "        cpd = fit(LinearGaussianCPD, df, :a, min_stdev=0.0)\n",
    "\n",
    "        @test name(cpd) == :a\n",
    "        @test parents(cpd) == NodeName[]\n",
    "        @test parentless(cpd)\n",
    "        @test disttype(cpd) <: Normal\n",
    "        @test nparams(cpd) == 2\n",
    "        @test pdf(cpd, :a=>0.5) > 0.2\n",
    "        @test pdf(cpd, :a=>0.0) > pdf(cpd, :a=>0.55)\n",
    "    end\n",
    "\n",
    "    # with parents\n",
    "    let\n",
    "        a = randn(1000)\n",
    "        b = randn(1000) .+ 2*a .+ 1\n",
    "\n",
    "        df = DataFrame(a=a, b=b)\n",
    "        cpd = fit(LinearGaussianCPD, df, :b, [:a])\n",
    "\n",
    "        @test !parentless(cpd)\n",
    "        @test parents(cpd) == [:a]\n",
    "        @test nparams(cpd) == 3\n",
    "\n",
    "        p = cpd(:a=>0.0)\n",
    "        @test isapprox(p.μ, 1.0, atol=0.25)\n",
    "        @test isapprox(p.σ, 2.0, atol=0.50)\n",
    "\n",
    "        p = cpd(:a=>1.0)\n",
    "        @test isapprox(p.μ, 3.0, atol=0.25)\n",
    "        @test isapprox(p.σ, 2.0, atol=0.50)\n",
    "\n",
    "        cpd = fit(LinearGaussianCPD, df, :b, [:a], min_stdev=10.0)\n",
    "        @test cpd(:a=>1.0).σ == 10.0\n",
    "    end\n",
    "end"
   ]
  },
  {
   "cell_type": "code",
   "execution_count": 7,
   "metadata": {
    "collapsed": false
   },
   "outputs": [],
   "source": [
    "# CategoricalCPD\n",
    "let\n",
    "\n",
    "    # no parents\n",
    "    let\n",
    "        df = DataFrame(a=[1,2,1,2,3])\n",
    "        cpd = fit(DiscreteCPD, df, :a)\n",
    "\n",
    "        @test name(cpd) == :a\n",
    "        @test parentless(cpd)\n",
    "        @test nparams(cpd) == 3\n",
    "        \n",
    "        d = cpd(Assignment())\n",
    "        @test isa(d, Categorical) && isa(d, disttype(cpd))\n",
    "        @test pdf(d, 1) == 0.4\n",
    "        @test pdf(d, 2) == 0.4\n",
    "        @test pdf(d, 3) == 0.2\n",
    "        \n",
    "        df = DataFrame(a=randn(100))\n",
    "        cpd = fit(CategoricalCPD{Normal}, df, :a)\n",
    "        \n",
    "        @test isa(cpd(), disttype(cpd))\n",
    "        @test pdf(cpd, :a=>0.5) > 0.2\n",
    "        @test pdf(cpd, :a=>0.0) > pdf(cpd, :a=>0.55)\n",
    "    end\n",
    "\n",
    "    # with parents\n",
    "    let\n",
    "        # Example with Categorical\n",
    "        df = DataFrame(a=[1,2,1,2,3], b=[1,1,2,1,2])\n",
    "        cpd = fit(DiscreteCPD, df, :b, [:a])\n",
    "\n",
    "        @test name(cpd) == :b\n",
    "        @test parents(cpd) == [:a]\n",
    "        @test !parentless(cpd)\n",
    "        @test nparams(cpd) == 6\n",
    "        \n",
    "        @test cpd(:a=>1).p == [0.5,0.5]\n",
    "        @test cpd(:a=>2).p == [1.0,0.0]\n",
    "        @test cpd(:a=>3).p == [0.0,1.0]\n",
    "\n",
    "        # Example with Bernoulli and more than one parent\n",
    "        df = DataFrame(a=[   1,    1,    1,    1,    2,    2,    2,    2], \n",
    "                       b=[   1,    1,    2,    2,    1,    1,    2,    2], \n",
    "                       c=[true, true,false,false, true,false,false, true])\n",
    "        cpd = fit(CategoricalCPD{Bernoulli}, df, :c, [:a, :b])\n",
    "        \n",
    "        @test nparams(cpd) == 4\n",
    "        \n",
    "        @test isa(cpd(Assignment(:a=>1, :b=>1)), disttype(cpd))\n",
    "        @test cpd(Assignment(:a=>1, :b=>1)).p == 1.0\n",
    "        @test cpd(Assignment(:a=>1, :b=>2)).p == 0.0\n",
    "        @test cpd(Assignment(:a=>2, :b=>1)).p == 0.5\n",
    "        @test cpd(Assignment(:a=>2, :b=>2)).p == 0.5\n",
    "    end\n",
    "end"
   ]
  },
  {
   "cell_type": "code",
   "execution_count": 8,
   "metadata": {
    "collapsed": false
   },
   "outputs": [],
   "source": [
    "# ConditionalLinearGaussianCPD\n",
    "let\n",
    "\n",
    "    # no parents\n",
    "    let\n",
    "        df = DataFrame(a=randn(10))\n",
    "        cpd = fit(ConditionalLinearGaussianCPD, df, :a)\n",
    "\n",
    "        @test name(cpd) == :a\n",
    "        @test parentless(cpd)\n",
    "        @test nparams(cpd) == 2\n",
    "        \n",
    "        d = cpd()\n",
    "        @test isa(d, Normal) && isa(d, disttype(cpd))\n",
    "    end\n",
    "\n",
    "    # with parents\n",
    "    let\n",
    "        df = DataFrame(a=[  1,   1,   1,   1,     2,   2,   2,   2], \n",
    "                       b=[0.5, 1.0, 1.5, 1.0,   2.5, 3.0, 3.5, 3.0],\n",
    "                       c=[0.55,1.05,1.53,1.02,  2.52,3.01,3.55,3.03])\n",
    "        cpd = fit(ConditionalLinearGaussianCPD, df, :c, [:a, :b])\n",
    "\n",
    "        @test name(cpd) == :c\n",
    "        @test parents(cpd) == [:a, :b]\n",
    "        @test !parentless(cpd)\n",
    "        @test nparams(cpd) == 6\n",
    "        \n",
    "        d = cpd(Assignment(:a=>1, :b=>0.5))\n",
    "        @test isapprox(d.μ, 0.538, atol=0.001)\n",
    "        @test isapprox(d.σ, 1.130, atol=0.001)\n",
    "        \n",
    "        d = cpd(Assignment(:a=>2, :b=>3.0))\n",
    "        @test isapprox(d.μ, 3.029, atol=0.001)\n",
    "        @test isapprox(d.σ, 1.130, atol=0.001)\n",
    "    end\n",
    "end"
   ]
  },
  {
   "cell_type": "markdown",
   "metadata": {
    "collapsed": true
   },
   "source": [
    "# Test"
   ]
  },
  {
   "cell_type": "code",
   "execution_count": null,
   "metadata": {
    "collapsed": true
   },
   "outputs": [],
   "source": []
  }
 ],
 "metadata": {
  "kernelspec": {
   "display_name": "Julia 0.4.1",
   "language": "julia",
   "name": "julia-0.4"
  },
  "language_info": {
   "file_extension": ".jl",
   "mimetype": "application/julia",
   "name": "julia",
   "version": "0.4.1"
  }
 },
 "nbformat": 4,
 "nbformat_minor": 0
}
