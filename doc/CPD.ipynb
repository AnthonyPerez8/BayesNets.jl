{
 "cells": [
  {
   "cell_type": "code",
   "execution_count": 1,
   "metadata": {
    "collapsed": false
   },
   "outputs": [],
   "source": [
    "using Base.Test\n",
    "include(\"../src/CPDs/cpds.jl\")\n",
    "using .CPDs"
   ]
  },
  {
   "cell_type": "code",
   "execution_count": 2,
   "metadata": {
    "collapsed": false
   },
   "outputs": [],
   "source": [
    "# StaticCPD\n",
    "let\n",
    "    df = DataFrame(a=randn(100))\n",
    "    cpd = fit(CPD{Normal, StaticCPD}, df, :a)\n",
    "    @test name(cpd) == :a\n",
    "    @test parentless(cpd)\n",
    "    @test condition!(cpd, Assignment()) === distribution(cpd)\n",
    "    @test pdf(cpd, Assignment(:a=>0.5)) > 0.2\n",
    "    @test pdf(cpd, Assignment(:a=>0.0)) > pdf(cpd, Assignment(:a=>0.5))\n",
    "end"
   ]
  },
  {
   "cell_type": "code",
   "execution_count": 11,
   "metadata": {
    "collapsed": false
   },
   "outputs": [],
   "source": [
    "# Linear Gaussian\n",
    "let\n",
    "\n",
    "    # no parents\n",
    "    let\n",
    "        df = DataFrame(a=randn(100))\n",
    "        cpd = fit(CPD{Normal{Float64}, LinearGaussianCPD}, df, :a, min_stdev=0.0)\n",
    "\n",
    "        @test name(cpd) == :a\n",
    "        @test parentless(cpd)\n",
    "        @test distribution(cpd) == condition!(cpd, Assignment())\n",
    "        @test abs(distribution(cpd).σ - 1.0) < 0.2\n",
    "        @test pdf(cpd, Dict{Symbol, Any}(:a=>0.5)) > 0.2\n",
    "        @test pdf(cpd, Dict{Symbol, Any}(:a=>0.0)) > pdf(cpd, Dict{Symbol, Any}(:a=>0.5))\n",
    "    end\n",
    "\n",
    "    # with parents\n",
    "    let\n",
    "        a = randn(1000)\n",
    "        b = randn(1000) .+ 2*a .+ 1\n",
    "\n",
    "        df = DataFrame(a=a, b=b)\n",
    "        cpd = fit(CPD{Normal{Float64}, LinearGaussianCPD}, df, :b, [:a])\n",
    "\n",
    "        @test !parentless(cpd)\n",
    "\n",
    "        p = condition!(cpd, Assignment(:a=>0.0))\n",
    "        @test isapprox(p.μ, 1.0, atol=0.25)\n",
    "        @test isapprox(p.σ, 2.0, atol=0.50)\n",
    "\n",
    "        p = condition!(cpd, Assignment(:a=>1.0))\n",
    "        @test isapprox(p.μ, 3.0, atol=0.25)\n",
    "        @test isapprox(p.σ, 2.0, atol=0.50)\n",
    "\n",
    "        cpd = fit(CPD{Normal{Float64}, LinearGaussianCPD}, df, :b, [:a], min_stdev=10.0)\n",
    "        @test distribution(cpd).σ == 10.0\n",
    "    end\n",
    "end"
   ]
  },
  {
   "cell_type": "code",
   "execution_count": 6,
   "metadata": {
    "collapsed": false
   },
   "outputs": [],
   "source": [
    "# CategoricalCPD\n",
    "let\n",
    "\n",
    "    # no parents\n",
    "    let\n",
    "        df = DataFrame(a=[1,2,1,2,3])\n",
    "        cpd = fit(CPD{Categorical, CategoricalCPD}, df, :a)\n",
    "\n",
    "        @test name(cpd) == :a\n",
    "        @test parentless(cpd)\n",
    "        @test distribution(cpd) === condition!(cpd, Assignment())\n",
    "        @test pdf(distribution(cpd), 1) == 0.4\n",
    "        @test pdf(distribution(cpd), 2) == 0.4\n",
    "        @test pdf(distribution(cpd), 3) == 0.2\n",
    "    end\n",
    "\n",
    "    # with parents\n",
    "    let\n",
    "        df = DataFrame(a=[1,2,1,2,3], b=[1,1,2,1,2])\n",
    "        cpd = fit(CPD{Categorical, CategoricalCPD}, df, :b, [:a])\n",
    "\n",
    "        @test condition!(cpd, Assignment(:a=>1)).p == [0.5,0.5]\n",
    "        @test condition!(cpd, Assignment(:a=>2)).p == [1.0,0.0]\n",
    "        @test condition!(cpd, Assignment(:a=>3)).p == [0.0,1.0]\n",
    "\n",
    "        cpd = fit(CPD{Categorical, CategoricalCPD}, df, :b, [:a], dirichlet_prior=1.0)\n",
    "        @test condition!(cpd, Assignment(:a=>1)).p == [0.50,0.50]\n",
    "        @test condition!(cpd, Assignment(:a=>2)).p == [0.75,0.25]\n",
    "        @test condition!(cpd, Assignment(:a=>3)).p == [ 1/3, 2/3]\n",
    "    end\n",
    "end"
   ]
  },
  {
   "cell_type": "code",
   "execution_count": 6,
   "metadata": {
    "collapsed": false
   },
   "outputs": [
    {
     "data": {
      "text/plain": [
       "CPDs.LinearGaussianCPD(#undef,0.0)"
      ]
     },
     "execution_count": 6,
     "metadata": {},
     "output_type": "execute_result"
    }
   ],
   "source": []
  },
  {
   "cell_type": "markdown",
   "metadata": {
    "collapsed": true
   },
   "source": [
    "# Test"
   ]
  },
  {
   "cell_type": "code",
   "execution_count": 5,
   "metadata": {
    "collapsed": false
   },
   "outputs": [
    {
     "data": {
      "text/plain": [
       "CPDs.LinearGaussianCPD(CPDs.CPDCore{Distributions.Normal{Float64}}(:b,[:a],Distributions.Normal{Float64}(μ=NaN, σ=2.1179207832752054)),[1.9933443971293257],1.0765022745202344)"
      ]
     },
     "execution_count": 5,
     "metadata": {},
     "output_type": "execute_result"
    }
   ],
   "source": [
    "a = randn(100)\n",
    "b = randn(100) .+ 2*a .+ 1\n",
    "\n",
    "df = DataFrame(a=a, b=b)\n",
    "cpd = fit(LinearGaussianCPD, df, :b, [:a])"
   ]
  },
  {
   "cell_type": "code",
   "execution_count": 6,
   "metadata": {
    "collapsed": false
   },
   "outputs": [
    {
     "data": {
      "text/plain": [
       "2.1179207832752054"
      ]
     },
     "execution_count": 6,
     "metadata": {},
     "output_type": "execute_result"
    }
   ],
   "source": [
    "distribution(cpd).σ"
   ]
  },
  {
   "cell_type": "code",
   "execution_count": 7,
   "metadata": {
    "collapsed": false
   },
   "outputs": [
    {
     "data": {
      "text/plain": [
       "Distributions.Normal{Float64}(μ=3.06984667164956, σ=2.1179207832752054)"
      ]
     },
     "execution_count": 7,
     "metadata": {},
     "output_type": "execute_result"
    }
   ],
   "source": [
    "condition!(cpd, Dict(:a=>1.0))"
   ]
  },
  {
   "cell_type": "code",
   "execution_count": 10,
   "metadata": {
    "collapsed": false
   },
   "outputs": [
    {
     "ename": "LoadError",
     "evalue": "LoadError: MethodError: `rand` has no method matching rand(::CPDs.LinearGaussianCPD)\nClosest candidates are:\n  rand(::CPDs.CPD{D<:Distributions.Distribution{F<:Distributions.VariateForm,S<:Distributions.ValueSupport}}, !Matched::Dict{K,V})\nwhile loading In[10], in expression starting on line 1",
     "output_type": "error",
     "traceback": [
      "LoadError: MethodError: `rand` has no method matching rand(::CPDs.LinearGaussianCPD)\nClosest candidates are:\n  rand(::CPDs.CPD{D<:Distributions.Distribution{F<:Distributions.VariateForm,S<:Distributions.ValueSupport}}, !Matched::Dict{K,V})\nwhile loading In[10], in expression starting on line 1",
      ""
     ]
    }
   ],
   "source": [
    "rand(cpd)"
   ]
  },
  {
   "cell_type": "code",
   "execution_count": null,
   "metadata": {
    "collapsed": false
   },
   "outputs": [],
   "source": []
  },
  {
   "cell_type": "code",
   "execution_count": null,
   "metadata": {
    "collapsed": true
   },
   "outputs": [],
   "source": []
  }
 ],
 "metadata": {
  "kernelspec": {
   "display_name": "Julia 0.4.1",
   "language": "julia",
   "name": "julia-0.4"
  },
  "language_info": {
   "file_extension": ".jl",
   "mimetype": "application/julia",
   "name": "julia",
   "version": "0.4.1"
  }
 },
 "nbformat": 4,
 "nbformat_minor": 0
}
