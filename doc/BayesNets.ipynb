{
 "cells": [
  {
   "cell_type": "markdown",
   "metadata": {},
   "source": [
    "# Bayes Nets\n",
    "** A Julia package for Bayesian Networks **\n",
    "\n",
    "A Bayesian Network (BN) represents a probability distribution over a set of variables, $P(x_1, x_2, \\ldots, x_n)$. They leverage variable relations in order to efficiently decompose the joint distribution into smaller conditional probability distributions.\n",
    "\n",
    "A BN is defined by a directed acyclic graph and a set of conditional probability distributions. Each node in the graph corresponds to a variable $x_i$ and is associated with a conditional probability distribution $P(x_i \\mid \\text{parents}(x_i))$."
   ]
  },
  {
   "cell_type": "markdown",
   "metadata": {},
   "source": [
    "## Installation"
   ]
  },
  {
   "cell_type": "code",
   "execution_count": 1,
   "metadata": {
    "collapsed": false
   },
   "outputs": [
    {
     "name": "stderr",
     "output_type": "stream",
     "text": [
      "INFO: Nothing to be done\n"
     ]
    }
   ],
   "source": [
    "Pkg.add(\"BayesNets\");"
   ]
  },
  {
   "cell_type": "markdown",
   "metadata": {},
   "source": [
    "Visualization of Network structure is provided by the TikzGraphs package. Installation requirements (e.g., PGF/Tikz and pdf2svg) are provided [here](http://nbviewer.ipython.org/github/sisl/TikzGraphs.jl/blob/master/doc/TikzGraphs.ipynb)."
   ]
  },
  {
   "cell_type": "markdown",
   "metadata": {},
   "source": [
    "## Use"
   ]
  },
  {
   "cell_type": "code",
   "execution_count": 2,
   "metadata": {
    "collapsed": false
   },
   "outputs": [],
   "source": [
    "srand(0) # seed the random number generator to 0, for demonstration purposes\n",
    "using BayesNets"
   ]
  },
  {
   "cell_type": "markdown",
   "metadata": {},
   "source": [
    "## Representation"
   ]
  },
  {
   "cell_type": "markdown",
   "metadata": {},
   "source": [
    "Bayesian Networks are represented with the `BayesNet` type. This type contains the directed acyclic graph (a LightTables.DiGraph) and a list of BayesNetNodes (containing the variable's name, domain, and conditional probability distribution)."
   ]
  },
  {
   "cell_type": "code",
   "execution_count": 3,
   "metadata": {
    "collapsed": false
   },
   "outputs": [
    {
     "data": {
      "image/svg+xml": [
       "<?xml version=\"1.0\" encoding=\"UTF-8\"?>\n",
       "<svg xmlns=\"http://www.w3.org/2000/svg\" xmlns:xlink=\"http://www.w3.org/1999/xlink\" width=\"42.39pt\" height=\"70.577pt\" viewBox=\"0 0 42.39 70.577\" version=\"1.1\">\n",
       "<defs>\n",
       "<g>\n",
       "<symbol overflow=\"visible\" id=\"glyph-1451602555382301-0-0\">\n",
       "<path style=\"stroke:none;\" d=\"\"/>\n",
       "</symbol>\n",
       "<symbol overflow=\"visible\" id=\"glyph-1451602555382301-0-1\">\n",
       "<path style=\"stroke:none;\" d=\"M 6.65625 -1.984375 C 6.65625 -2.84375 5.671875 -3.765625 4.5625 -3.890625 L 4.5625 -3.5625 C 5.53125 -3.75 6.390625 -4.546875 6.390625 -5.28125 C 6.390625 -6.15625 5.296875 -7.140625 4 -7.140625 L 0.171875 -7.140625 L 0.171875 -6.5 L 0.59375 -6.5 C 1.359375 -6.5 1.203125 -6.546875 1.203125 -6.1875 L 1.203125 -0.9375 C 1.203125 -0.578125 1.359375 -0.640625 0.59375 -0.640625 L 0.171875 -0.640625 L 0.171875 0 L 4.265625 0 C 5.59375 0 6.65625 -1.046875 6.65625 -1.984375 Z M 5.078125 -5.28125 C 5.078125 -4.640625 4.765625 -3.984375 3.65625 -3.984375 L 2.375 -3.984375 L 2.375 -6.265625 C 2.375 -6.59375 2.234375 -6.5 2.703125 -6.5 L 3.9375 -6.5 C 4.90625 -6.5 5.078125 -5.8125 5.078125 -5.28125 Z M 5.3125 -2 C 5.3125 -1.28125 4.96875 -0.640625 3.953125 -0.640625 L 2.703125 -0.640625 C 2.234375 -0.640625 2.375 -0.53125 2.375 -0.875 L 2.375 -3.421875 L 4.09375 -3.421875 C 5.078125 -3.421875 5.3125 -2.65625 5.3125 -2 Z M 5.3125 -2 \"/>\n",
       "</symbol>\n",
       "<symbol overflow=\"visible\" id=\"glyph-1451602555382301-0-2\">\n",
       "<path style=\"stroke:none;\" d=\"M 6.5 -2.90625 L 6.09375 -2.90625 C 5.828125 -1.203125 5.765625 -0.640625 4.0625 -0.640625 L 2.734375 -0.640625 C 2.265625 -0.640625 2.40625 -0.53125 2.40625 -0.875 L 2.40625 -3.375 L 3.140625 -3.375 C 4.109375 -3.375 4.03125 -3.203125 4.03125 -2.203125 L 4.640625 -2.203125 L 4.640625 -5.171875 L 4.03125 -5.171875 C 4.03125 -4.140625 4.109375 -4 3.140625 -4 L 2.40625 -4 L 2.40625 -6.234375 C 2.40625 -6.5625 2.265625 -6.46875 2.734375 -6.46875 L 4.015625 -6.46875 C 5.546875 -6.46875 5.625 -6.078125 5.8125 -4.53125 L 6.40625 -4.53125 L 6.09375 -7.109375 L 0.15625 -7.109375 L 0.15625 -6.46875 L 0.5625 -6.46875 C 1.328125 -6.46875 1.171875 -6.515625 1.171875 -6.15625 L 1.171875 -0.9375 C 1.171875 -0.578125 1.328125 -0.640625 0.5625 -0.640625 L 0.15625 -0.640625 L 0.15625 0 L 6.21875 0 L 6.703125 -2.90625 Z M 6.5 -2.90625 \"/>\n",
       "</symbol>\n",
       "<symbol overflow=\"visible\" id=\"glyph-1451602555382301-0-3\">\n",
       "<path style=\"stroke:none;\" d=\"M 5.140625 -2.015625 C 5.140625 -3.015625 4.3125 -4 3.484375 -4.203125 L 2.203125 -4.5 C 1.578125 -4.65625 1.359375 -5.03125 1.359375 -5.609375 C 1.359375 -6.296875 1.734375 -6.75 2.515625 -6.75 C 4.171875 -6.75 4.21875 -5.28125 4.28125 -4.828125 C 4.28125 -4.765625 4.46875 -4.546875 4.578125 -4.546875 C 4.703125 -4.546875 4.875 -4.75 4.875 -4.9375 L 4.875 -6.953125 C 4.875 -7.125 4.703125 -7.359375 4.59375 -7.359375 C 4.53125 -7.359375 4.390625 -7.296875 4.3125 -7.171875 L 4.0625 -6.765625 C 3.921875 -6.890625 3.390625 -7.359375 2.5 -7.359375 C 1.390625 -7.359375 0.375 -6.3125 0.375 -5.25 C 0.375 -4.421875 1.09375 -3.53125 1.859375 -3.265625 C 1.96875 -3.234375 2.484375 -3.109375 3.1875 -2.9375 C 3.453125 -2.875 3.625 -2.84375 3.890625 -2.484375 C 4.109375 -2.21875 4.15625 -2 4.15625 -1.671875 C 4.15625 -0.96875 3.84375 -0.421875 3 -0.421875 C 2.71875 -0.421875 2.078125 -0.421875 1.546875 -0.90625 C 0.96875 -1.453125 0.984375 -1.96875 0.984375 -2.328125 C 0.96875 -2.421875 0.71875 -2.59375 0.6875 -2.59375 C 0.5625 -2.59375 0.375 -2.359375 0.375 -2.171875 L 0.375 -0.171875 C 0.375 -0.015625 0.5625 0.21875 0.671875 0.21875 C 0.734375 0.21875 0.875 0.15625 0.9375 0.046875 C 0.9375 0.046875 0.96875 0 1.203125 -0.359375 C 1.359375 -0.1875 2.125 0.21875 3.015625 0.21875 C 4.171875 0.21875 5.140625 -0.921875 5.140625 -2.015625 Z M 5.140625 -2.015625 \"/>\n",
       "</symbol>\n",
       "<symbol overflow=\"visible\" id=\"glyph-1451602555382301-0-4\">\n",
       "<path style=\"stroke:none;\" d=\"M 7.21875 -3.515625 C 7.21875 -5.40625 5.703125 -7.140625 4 -7.140625 L 0.171875 -7.140625 L 0.171875 -6.5 L 0.59375 -6.5 C 1.359375 -6.5 1.203125 -6.546875 1.203125 -6.1875 L 1.203125 -0.9375 C 1.203125 -0.578125 1.359375 -0.640625 0.59375 -0.640625 L 0.171875 -0.640625 L 0.171875 0 L 4 0 C 5.671875 0 7.21875 -1.640625 7.21875 -3.515625 Z M 5.875 -3.515625 C 5.875 -2.40625 5.734375 -1.921875 5.375 -1.4375 C 5.171875 -1.171875 4.734375 -0.640625 3.734375 -0.640625 L 2.71875 -0.640625 C 2.25 -0.640625 2.40625 -0.53125 2.40625 -0.875 L 2.40625 -6.265625 C 2.40625 -6.59375 2.25 -6.5 2.71875 -6.5 L 3.71875 -6.5 C 4.34375 -6.5 4.890625 -6.328125 5.40625 -5.625 C 5.828125 -5.03125 5.875 -4.28125 5.875 -3.515625 Z M 5.875 -3.515625 \"/>\n",
       "</symbol>\n",
       "<symbol overflow=\"visible\" id=\"glyph-1451602555382301-0-5\">\n",
       "<path style=\"stroke:none;\" d=\"M 6.796875 -2.484375 C 6.796875 -2.578125 6.625 -2.828125 6.5 -2.828125 C 6.390625 -2.828125 6.203125 -2.609375 6.203125 -2.5 C 6.125 -1.078125 5.234375 -0.421875 4.140625 -0.421875 C 3.53125 -0.421875 1.75 -0.59375 1.75 -3.5625 C 1.75 -6.546875 3.53125 -6.71875 4.140625 -6.71875 C 5.21875 -6.71875 5.9375 -5.96875 6.125 -4.515625 C 6.15625 -4.375 6.328125 -4.1875 6.46875 -4.1875 C 6.625 -4.1875 6.796875 -4.375 6.796875 -4.578125 L 6.796875 -6.953125 C 6.796875 -7.125 6.625 -7.359375 6.515625 -7.359375 C 6.484375 -7.359375 6.3125 -7.3125 6.234375 -7.1875 L 5.828125 -6.59375 C 5.609375 -6.8125 4.984375 -7.359375 4.03125 -7.359375 C 2.15625 -7.359375 0.375 -5.609375 0.375 -3.5625 C 0.375 -1.5 2.171875 0.21875 4.03125 0.21875 C 5.65625 0.21875 6.796875 -1.328125 6.796875 -2.484375 Z M 6.796875 -2.484375 \"/>\n",
       "</symbol>\n",
       "</g>\n",
       "</defs>\n",
       "<g id=\"surface1\">\n",
       "<path style=\"fill:none;stroke-width:0.3985;stroke-linecap:butt;stroke-linejoin:miter;stroke:rgb(0%,0%,0%);stroke-opacity:1;stroke-miterlimit:10;\" d=\"M 3.459938 -6.921281 L 10.514625 -21.030656 \" transform=\"matrix(1,0,0,-1,7.126,6.942)\"/>\n",
       "<path style=\"fill:none;stroke-width:0.31879;stroke-linecap:round;stroke-linejoin:round;stroke:rgb(0%,0%,0%);stroke-opacity:1;stroke-miterlimit:10;\" d=\"M -1.194183 1.592599 C -1.094613 0.996894 -0.00104055 0.100707 0.297684 -0.000618142 C -0.00104235 -0.100191 -1.096378 -0.998105 -1.194212 -1.595556 \" transform=\"matrix(0.44722,0.89442,0.89442,-0.44722,17.64086,27.97175)\"/>\n",
       "<path style=\"fill:none;stroke-width:0.3985;stroke-linecap:butt;stroke-linejoin:miter;stroke:rgb(0%,0%,0%);stroke-opacity:1;stroke-miterlimit:10;\" d=\"M 24.776344 -7.140031 L 17.831031 -21.02675 \" transform=\"matrix(1,0,0,-1,7.126,6.942)\"/>\n",
       "<path style=\"fill:none;stroke-width:0.31879;stroke-linecap:round;stroke-linejoin:round;stroke:rgb(0%,0%,0%);stroke-opacity:1;stroke-miterlimit:10;\" d=\"M -1.19408 1.593392 C -1.094891 0.994846 0.00130112 0.0987853 0.298836 -0.000387211 C -0.000435335 -0.0978304 -1.094856 -0.99741 -1.195763 -1.595959 \" transform=\"matrix(-0.44902,0.898,0.898,0.44902,24.95875,27.9701)\"/>\n",
       "<path style=\"fill:none;stroke-width:0.3985;stroke-linecap:butt;stroke-linejoin:miter;stroke:rgb(0%,0%,0%);stroke-opacity:1;stroke-miterlimit:10;\" d=\"M 10.721656 -35.253313 L 3.666969 -49.362688 \" transform=\"matrix(1,0,0,-1,7.126,6.942)\"/>\n",
       "<path style=\"fill:none;stroke-width:0.31879;stroke-linecap:round;stroke-linejoin:round;stroke:rgb(0%,0%,0%);stroke-opacity:1;stroke-miterlimit:10;\" d=\"M -1.197872 1.594546 C -1.094797 0.995349 -0.00120838 0.100928 0.297518 0.00135549 C -0.00120659 -0.0999694 -1.094779 -0.996156 -1.197843 -1.593609 \" transform=\"matrix(-0.44722,0.89442,0.89442,0.44722,10.792,56.3036)\"/>\n",
       "<path style=\"fill:none;stroke-width:0.3985;stroke-linecap:butt;stroke-linejoin:miter;stroke:rgb(0%,0%,0%);stroke-opacity:1;stroke-miterlimit:10;\" d=\"M 17.627906 -35.253313 L 24.569313 -49.140031 \" transform=\"matrix(1,0,0,-1,7.126,6.942)\"/>\n",
       "<path style=\"fill:none;stroke-width:0.31879;stroke-linecap:round;stroke-linejoin:round;stroke:rgb(0%,0%,0%);stroke-opacity:1;stroke-miterlimit:10;\" d=\"M -1.196473 1.5932 C -1.095566 0.994652 0.000594735 0.0985514 0.299867 0.00110823 C 0.00059117 -0.101544 -1.095601 -0.997605 -1.19479 -1.59615 \" transform=\"matrix(0.44902,0.898,0.898,-0.44902,31.69639,56.08278)\"/>\n",
       "<g style=\"fill:rgb(0%,0%,0%);fill-opacity:1;\">\n",
       "  <use xlink:href=\"#glyph-1451602555382301-0-1\" x=\"3.599\" y=\"10.344\"/>\n",
       "</g>\n",
       "<g style=\"fill:rgb(0%,0%,0%);fill-opacity:1;\">\n",
       "  <use xlink:href=\"#glyph-1451602555382301-0-2\" x=\"17.907\" y=\"38.676\"/>\n",
       "</g>\n",
       "<g style=\"fill:rgb(0%,0%,0%);fill-opacity:1;\">\n",
       "  <use xlink:href=\"#glyph-1451602555382301-0-3\" x=\"32.703\" y=\"10.344\"/>\n",
       "</g>\n",
       "<g style=\"fill:rgb(0%,0%,0%);fill-opacity:1;\">\n",
       "  <use xlink:href=\"#glyph-1451602555382301-0-4\" x=\"3.321\" y=\"67.037\"/>\n",
       "</g>\n",
       "<g style=\"fill:rgb(0%,0%,0%);fill-opacity:1;\">\n",
       "  <use xlink:href=\"#glyph-1451602555382301-0-5\" x=\"31.876\" y=\"67.037\"/>\n",
       "</g>\n",
       "</g>\n",
       "</svg>\n",
       "\n"
      ],
      "text/plain": [
       "BayesNets.BayesNet({5, 4} directed graph,[BayesNets.BayesNetNode(:B,BayesNets.CPDs.DiscreteDomain(Bool[false,true]),BayesNets.CPDs.Bernoulli((anonymous function))),BayesNets.BayesNetNode(:S,BayesNets.CPDs.DiscreteDomain(Bool[false,true]),BayesNets.CPDs.Bernoulli((anonymous function))),BayesNets.BayesNetNode(:E,BayesNets.CPDs.DiscreteDomain(Bool[false,true]),BayesNets.CPDs.Bernoulli((anonymous function))),BayesNets.BayesNetNode(:D,BayesNets.CPDs.DiscreteDomain(Bool[false,true]),BayesNets.CPDs.Bernoulli((anonymous function))),BayesNets.BayesNetNode(:C,BayesNets.CPDs.DiscreteDomain(Bool[false,true]),BayesNets.CPDs.Bernoulli((anonymous function)))],Dict(:S=>2,:C=>5,:B=>1,:D=>4,:E=>3))"
      ]
     },
     "execution_count": 3,
     "metadata": {},
     "output_type": "execute_result"
    }
   ],
   "source": [
    "bn = BayesNet([:B, :S, :E, :D, :C]) # construct an edgeless network with five variables\n",
    "                                    # note that this defaults to binary variables with 50/50 Bernoulli CPDs\n",
    "add_edges!(bn, [(:B, :E), (:S, :E), (:E, :D), (:E, :C)]) # add edges, does not change CPDs\n",
    "\n",
    "set_CPD!(bn, :B, CPDs.Bernoulli(0.1))\n",
    "set_CPD!(bn, :S, CPDs.Bernoulli(0.5))\n",
    "set_CPD!(bn, :E, CPDs.Bernoulli([:B, :S], rand_bernoulli_dict(2)))\n",
    "set_CPD!(bn, :D, CPDs.Bernoulli([:E], rand_bernoulli_dict(1)))\n",
    "set_CPD!(bn, :C, CPDs.Bernoulli([:E], rand_bernoulli_dict(1)))\n",
    "\n",
    "bn"
   ]
  },
  {
   "cell_type": "code",
   "execution_count": 4,
   "metadata": {
    "collapsed": false
   },
   "outputs": [
    {
     "data": {
      "text/plain": [
       "2-element Array{Symbol,1}:\n",
       " :B\n",
       " :S"
      ]
     },
     "execution_count": 4,
     "metadata": {},
     "output_type": "execute_result"
    }
   ],
   "source": [
    "parents(bn, :E)"
   ]
  },
  {
   "cell_type": "code",
   "execution_count": 5,
   "metadata": {
    "collapsed": false
   },
   "outputs": [
    {
     "data": {
      "text/plain": [
       "BayesNets.CPDs.DiscreteDomain(Bool[false,true])"
      ]
     },
     "execution_count": 5,
     "metadata": {},
     "output_type": "execute_result"
    }
   ],
   "source": [
    "domain(bn, :C)"
   ]
  },
  {
   "cell_type": "markdown",
   "metadata": {},
   "source": [
    "## Conditional Probability Distributions"
   ]
  },
  {
   "cell_type": "markdown",
   "metadata": {},
   "source": [
    "Conditional Probablity Distributions, $P(x_i \\mid \\text{parents}(x_i))$, are defined in CPDs.jl. The current implementation provides `pdf(CPD, Assignment)` which returns an anonymous function over $x_i$'s distribution parameters."
   ]
  },
  {
   "cell_type": "markdown",
   "metadata": {},
   "source": [
    "$$P(C\\mid A, B)$$"
   ]
  },
  {
   "cell_type": "code",
   "execution_count": 6,
   "metadata": {
    "collapsed": false
   },
   "outputs": [],
   "source": [
    "CPDs.Bernoulli( # conditional probability distribution\n",
    "                [:A, :B], \n",
    "                Dict(\n",
    "                     Dict(:A=>true,  :B=>true)=>0.1,\n",
    "                     Dict(:A=>false, :B=>true)=>0.2,\n",
    "                     Dict(:A=>true,  :B=>false)=>0.3,\n",
    "                     Dict(:A=>false, :B=>false)=>0.4,\n",
    "                ));"
   ]
  },
  {
   "cell_type": "markdown",
   "metadata": {},
   "source": [
    "## Tables and Operations\n",
    "Conditional probability distributions for discrete variables are often represented as conditional probability tables (CPTs). Their more general version are called factors. In BayesNets.jl these can be obtained using the `table` function, and are represented using DataFrames with one column per variable and one column `p` for the probability or factor value."
   ]
  },
  {
   "cell_type": "code",
   "execution_count": 7,
   "metadata": {
    "collapsed": false
   },
   "outputs": [
    {
     "data": {
      "text/html": [
       "<table class=\"data-frame\"><tr><th></th><th>E</th><th>D</th><th>p</th></tr><tr><th>1</th><td>false</td><td>false</td><td>0.72</td></tr><tr><th>2</th><td>true</td><td>false</td><td>0.79</td></tr><tr><th>3</th><td>false</td><td>true</td><td>0.28</td></tr><tr><th>4</th><td>true</td><td>true</td><td>0.21</td></tr></table>"
      ],
      "text/plain": [
       "4x3 DataFrames.DataFrame\n",
       "| Row | E     | D     | p    |\n",
       "|-----|-------|-------|------|\n",
       "| 1   | false | false | 0.72 |\n",
       "| 2   | true  | false | 0.79 |\n",
       "| 3   | false | true  | 0.28 |\n",
       "| 4   | true  | true  | 0.21 |"
      ]
     },
     "execution_count": 7,
     "metadata": {},
     "output_type": "execute_result"
    }
   ],
   "source": [
    "table(bn, :D)"
   ]
  },
  {
   "cell_type": "code",
   "execution_count": 8,
   "metadata": {
    "collapsed": false
   },
   "outputs": [
    {
     "data": {
      "text/html": [
       "<table class=\"data-frame\"><tr><th></th><th>B</th><th>p</th></tr><tr><th>1</th><td>false</td><td>0.9</td></tr><tr><th>2</th><td>true</td><td>0.1</td></tr></table>"
      ],
      "text/plain": [
       "2x2 DataFrames.DataFrame\n",
       "| Row | B     | p   |\n",
       "|-----|-------|-----|\n",
       "| 1   | false | 0.9 |\n",
       "| 2   | true  | 0.1 |"
      ]
     },
     "execution_count": 8,
     "metadata": {},
     "output_type": "execute_result"
    }
   ],
   "source": [
    "table(bn, :B)"
   ]
  },
  {
   "cell_type": "markdown",
   "metadata": {},
   "source": [
    "Tables/factors can be operated on via factor multiplication (`*`) and marginalization (`summout`)"
   ]
  },
  {
   "cell_type": "code",
   "execution_count": 9,
   "metadata": {
    "collapsed": false
   },
   "outputs": [
    {
     "data": {
      "text/html": [
       "<table class=\"data-frame\"><tr><th></th><th>B</th><th>S</th><th>E</th><th>p</th></tr><tr><th>1</th><td>false</td><td>false</td><td>false</td><td>0.08100000000000003</td></tr><tr><th>2</th><td>false</td><td>false</td><td>true</td><td>0.369</td></tr><tr><th>3</th><td>true</td><td>false</td><td>false</td><td>0.004999999999999999</td></tr><tr><th>4</th><td>true</td><td>false</td><td>true</td><td>0.045000000000000005</td></tr><tr><th>5</th><td>false</td><td>true</td><td>false</td><td>0.3735</td></tr><tr><th>6</th><td>false</td><td>true</td><td>true</td><td>0.07650000000000001</td></tr><tr><th>7</th><td>true</td><td>true</td><td>false</td><td>0.04100000000000001</td></tr><tr><th>8</th><td>true</td><td>true</td><td>true</td><td>0.009</td></tr></table>"
      ],
      "text/plain": [
       "8x4 DataFrames.DataFrame\n",
       "| Row | B     | S     | E     | p      |\n",
       "|-----|-------|-------|-------|--------|\n",
       "| 1   | false | false | false | 0.081  |\n",
       "| 2   | false | false | true  | 0.369  |\n",
       "| 3   | true  | false | false | 0.005  |\n",
       "| 4   | true  | false | true  | 0.045  |\n",
       "| 5   | false | true  | false | 0.3735 |\n",
       "| 6   | false | true  | true  | 0.0765 |\n",
       "| 7   | true  | true  | false | 0.041  |\n",
       "| 8   | true  | true  | true  | 0.009  |"
      ]
     },
     "execution_count": 9,
     "metadata": {},
     "output_type": "execute_result"
    }
   ],
   "source": [
    "bt = table(bn, :B)\n",
    "st = table(bn, :S)\n",
    "et = table(bn, :E)\n",
    "tt = bt * et * st"
   ]
  },
  {
   "cell_type": "code",
   "execution_count": 10,
   "metadata": {
    "collapsed": false
   },
   "outputs": [
    {
     "data": {
      "text/html": [
       "<table class=\"data-frame\"><tr><th></th><th>E</th><th>p</th></tr><tr><th>1</th><td>false</td><td>0.5005000000000001</td></tr><tr><th>2</th><td>true</td><td>0.4995</td></tr></table>"
      ],
      "text/plain": [
       "2x2 DataFrames.DataFrame\n",
       "| Row | E     | p      |\n",
       "|-----|-------|--------|\n",
       "| 1   | false | 0.5005 |\n",
       "| 2   | true  | 0.4995 |"
      ]
     },
     "execution_count": 10,
     "metadata": {},
     "output_type": "execute_result"
    }
   ],
   "source": [
    "tt = sumout(tt, [:B, :S])"
   ]
  },
  {
   "cell_type": "markdown",
   "metadata": {},
   "source": [
    "## Computing Probability of Assignment\n",
    "\n",
    "A Bayesian Network represents a joint probability distribution, $P(x_1, x_2, \\ldots, x_n)$, and it is often necessary to evaluate that probability for a particular assignments.\n",
    "\n",
    "Assignments are represented as dictionaries mapping variable names (Symbols) to variable values, typically `Dict{NodeName, Any}`"
   ]
  },
  {
   "cell_type": "code",
   "execution_count": 11,
   "metadata": {
    "collapsed": false
   },
   "outputs": [
    {
     "data": {
      "text/plain": [
       "0.005229000000000001"
      ]
     },
     "execution_count": 11,
     "metadata": {},
     "output_type": "execute_result"
    }
   ],
   "source": [
    "assignment = Dict(\n",
    "    :B=>0,\n",
    "    :S=>1,\n",
    "    :E=>0,\n",
    "    :D=>1,\n",
    "    :C=>1\n",
    ")\n",
    "prob(bn, assignment)"
   ]
  },
  {
   "cell_type": "markdown",
   "metadata": {},
   "source": [
    "## Sampling\n",
    "\n",
    "Assignments can be sampled from a `BayesNet`."
   ]
  },
  {
   "cell_type": "code",
   "execution_count": 12,
   "metadata": {
    "collapsed": false
   },
   "outputs": [
    {
     "data": {
      "text/plain": [
       "Dict{Any,Any} with 5 entries:\n",
       "  :S => true\n",
       "  :C => false\n",
       "  :B => false\n",
       "  :D => true\n",
       "  :E => false"
      ]
     },
     "execution_count": 12,
     "metadata": {},
     "output_type": "execute_result"
    }
   ],
   "source": [
    "rand(bn)"
   ]
  },
  {
   "cell_type": "markdown",
   "metadata": {},
   "source": [
    "Multiple assignments can be sampled simultaneously and stored in a `DataFrame`"
   ]
  },
  {
   "cell_type": "code",
   "execution_count": 14,
   "metadata": {
    "collapsed": false
   },
   "outputs": [
    {
     "data": {
      "text/html": [
       "<table class=\"data-frame\"><tr><th></th><th>B</th><th>C</th><th>D</th><th>E</th><th>S</th></tr><tr><th>1</th><td>false</td><td>false</td><td>false</td><td>true</td><td>false</td></tr><tr><th>2</th><td>true</td><td>false</td><td>false</td><td>true</td><td>true</td></tr><tr><th>3</th><td>false</td><td>false</td><td>true</td><td>true</td><td>false</td></tr><tr><th>4</th><td>false</td><td>false</td><td>false</td><td>false</td><td>false</td></tr><tr><th>5</th><td>true</td><td>false</td><td>true</td><td>false</td><td>true</td></tr></table>"
      ],
      "text/plain": [
       "5x5 DataFrames.DataFrame\n",
       "| Row | B     | C     | D     | E     | S     |\n",
       "|-----|-------|-------|-------|-------|-------|\n",
       "| 1   | false | false | false | true  | false |\n",
       "| 2   | true  | false | false | true  | true  |\n",
       "| 3   | false | false | true  | true  | false |\n",
       "| 4   | false | false | false | false | false |\n",
       "| 5   | true  | false | true  | false | true  |"
      ]
     },
     "execution_count": 14,
     "metadata": {},
     "output_type": "execute_result"
    }
   ],
   "source": [
    "srand(0)\n",
    "rand_table(bn, numSamples=5)"
   ]
  },
  {
   "cell_type": "code",
   "execution_count": 18,
   "metadata": {
    "collapsed": false
   },
   "outputs": [
    {
     "data": {
      "text/html": [
       "<table class=\"data-frame\"><tr><th></th><th>B</th><th>C</th><th>D</th><th>E</th><th>S</th></tr><tr><th>1</th><td>true</td><td>false</td><td>false</td><td>true</td><td>true</td></tr><tr><th>2</th><td>true</td><td>false</td><td>true</td><td>false</td><td>true</td></tr><tr><th>3</th><td>true</td><td>false</td><td>true</td><td>true</td><td>true</td></tr></table>"
      ],
      "text/plain": [
       "3x5 DataFrames.DataFrame\n",
       "| Row | B    | C     | D     | E     | S    |\n",
       "|-----|------|-------|-------|-------|------|\n",
       "| 1   | true | false | false | true  | true |\n",
       "| 2   | true | false | true  | false | true |\n",
       "| 3   | true | false | true  | true  | true |"
      ]
     },
     "execution_count": 18,
     "metadata": {},
     "output_type": "execute_result"
    }
   ],
   "source": [
    "srand(0)\n",
    "t = rand_table(bn, numSamples=10, consistentWith=Dict(:B=>true, :C=>false))"
   ]
  },
  {
   "cell_type": "markdown",
   "metadata": {},
   "source": [
    "The `estimate` function takes a set of samples and estimates the probability of each assignment based on its frequency of occurence"
   ]
  },
  {
   "cell_type": "code",
   "execution_count": 21,
   "metadata": {
    "collapsed": false
   },
   "outputs": [
    {
     "data": {
      "text/html": [
       "<table class=\"data-frame\"><tr><th></th><th>B</th><th>C</th><th>D</th><th>E</th><th>S</th><th>p</th></tr><tr><th>1</th><td>true</td><td>false</td><td>false</td><td>true</td><td>false</td><td>0.125</td></tr><tr><th>2</th><td>true</td><td>false</td><td>true</td><td>true</td><td>true</td><td>0.125</td></tr><tr><th>3</th><td>true</td><td>false</td><td>false</td><td>false</td><td>true</td><td>0.5</td></tr><tr><th>4</th><td>true</td><td>false</td><td>true</td><td>false</td><td>true</td><td>0.125</td></tr><tr><th>5</th><td>true</td><td>false</td><td>true</td><td>false</td><td>false</td><td>0.125</td></tr></table>"
      ],
      "text/plain": [
       "5x6 DataFrames.DataFrame\n",
       "| Row | B    | C     | D     | E     | S     | p     |\n",
       "|-----|------|-------|-------|-------|-------|-------|\n",
       "| 1   | true | false | false | true  | false | 0.125 |\n",
       "| 2   | true | false | true  | true  | true  | 0.125 |\n",
       "| 3   | true | false | false | false | true  | 0.5   |\n",
       "| 4   | true | false | true  | false | true  | 0.125 |\n",
       "| 5   | true | false | true  | false | false | 0.125 |"
      ]
     },
     "execution_count": 21,
     "metadata": {},
     "output_type": "execute_result"
    }
   ],
   "source": [
    "t = rand_table(bn, numSamples=100, consistentWith=Dict(:B=>true, :C=>false))\n",
    "estimate(t)"
   ]
  },
  {
   "cell_type": "markdown",
   "metadata": {},
   "source": [
    "## Structure Learning\n",
    "\n",
    "BayesNets.jl supports several structure learning utilities (and will hopefully support structure learning soon!)."
   ]
  },
  {
   "cell_type": "code",
   "execution_count": 23,
   "metadata": {
    "collapsed": false
   },
   "outputs": [
    {
     "data": {
      "image/svg+xml": [
       "<?xml version=\"1.0\" encoding=\"UTF-8\"?>\n",
       "<svg xmlns=\"http://www.w3.org/2000/svg\" xmlns:xlink=\"http://www.w3.org/1999/xlink\" width=\"43.29pt\" height=\"42.011pt\" viewBox=\"0 0 43.29 42.011\" version=\"1.1\">\n",
       "<defs>\n",
       "<g>\n",
       "<symbol overflow=\"visible\" id=\"glyph-1451602555382303-0-0\">\n",
       "<path style=\"stroke:none;\" d=\"\"/>\n",
       "</symbol>\n",
       "<symbol overflow=\"visible\" id=\"glyph-1451602555382303-0-1\">\n",
       "<path style=\"stroke:none;\" d=\"M 7.3125 -0.15625 L 7.3125 -0.640625 L 6.96875 -0.640625 C 6.375 -0.640625 6.40625 -0.53125 6.296875 -0.875 L 4.140625 -7.09375 C 4.09375 -7.234375 3.890625 -7.46875 3.734375 -7.46875 C 3.578125 -7.46875 3.375 -7.25 3.3125 -7.109375 L 1.25 -1.140625 C 1.078125 -0.640625 0.859375 -0.640625 0.140625 -0.640625 L 0.140625 0.015625 L 1.328125 -0.03125 L 2.65625 0.015625 L 2.65625 -0.640625 C 1.984375 -0.640625 1.90625 -0.71875 1.90625 -0.984375 C 1.90625 -1 1.859375 -1 1.90625 -1.09375 L 2.328125 -2.265625 L 4.5625 -2.265625 L 5.03125 -0.90625 C 5.03125 -0.875 5.046875 -0.8125 5.046875 -0.765625 C 5.046875 -0.46875 4.671875 -0.640625 4.234375 -0.640625 L 4.234375 0.015625 C 4.765625 -0.03125 5.46875 -0.03125 5.84375 -0.03125 L 7.3125 0.015625 Z M 4.5625 -2.90625 L 2.546875 -2.90625 L 3.609375 -5.984375 L 3.265625 -5.984375 L 4.328125 -2.90625 Z M 4.5625 -2.90625 \"/>\n",
       "</symbol>\n",
       "<symbol overflow=\"visible\" id=\"glyph-1451602555382303-0-2\">\n",
       "<path style=\"stroke:none;\" d=\"M 6.65625 -1.984375 C 6.65625 -2.84375 5.671875 -3.765625 4.5625 -3.890625 L 4.5625 -3.5625 C 5.53125 -3.75 6.390625 -4.546875 6.390625 -5.28125 C 6.390625 -6.15625 5.296875 -7.140625 4 -7.140625 L 0.171875 -7.140625 L 0.171875 -6.5 L 0.59375 -6.5 C 1.359375 -6.5 1.203125 -6.546875 1.203125 -6.1875 L 1.203125 -0.9375 C 1.203125 -0.578125 1.359375 -0.640625 0.59375 -0.640625 L 0.171875 -0.640625 L 0.171875 0 L 4.265625 0 C 5.59375 0 6.65625 -1.046875 6.65625 -1.984375 Z M 5.078125 -5.28125 C 5.078125 -4.640625 4.765625 -3.984375 3.65625 -3.984375 L 2.375 -3.984375 L 2.375 -6.265625 C 2.375 -6.59375 2.234375 -6.5 2.703125 -6.5 L 3.9375 -6.5 C 4.90625 -6.5 5.078125 -5.8125 5.078125 -5.28125 Z M 5.3125 -2 C 5.3125 -1.28125 4.96875 -0.640625 3.953125 -0.640625 L 2.703125 -0.640625 C 2.234375 -0.640625 2.375 -0.53125 2.375 -0.875 L 2.375 -3.421875 L 4.09375 -3.421875 C 5.078125 -3.421875 5.3125 -2.65625 5.3125 -2 Z M 5.3125 -2 \"/>\n",
       "</symbol>\n",
       "<symbol overflow=\"visible\" id=\"glyph-1451602555382303-0-3\">\n",
       "<path style=\"stroke:none;\" d=\"M 6.796875 -2.484375 C 6.796875 -2.578125 6.625 -2.828125 6.5 -2.828125 C 6.390625 -2.828125 6.203125 -2.609375 6.203125 -2.5 C 6.125 -1.078125 5.234375 -0.421875 4.140625 -0.421875 C 3.53125 -0.421875 1.75 -0.59375 1.75 -3.5625 C 1.75 -6.546875 3.53125 -6.71875 4.140625 -6.71875 C 5.21875 -6.71875 5.9375 -5.96875 6.125 -4.515625 C 6.15625 -4.375 6.328125 -4.1875 6.46875 -4.1875 C 6.625 -4.1875 6.796875 -4.375 6.796875 -4.578125 L 6.796875 -6.953125 C 6.796875 -7.125 6.625 -7.359375 6.515625 -7.359375 C 6.484375 -7.359375 6.3125 -7.3125 6.234375 -7.1875 L 5.828125 -6.59375 C 5.609375 -6.8125 4.984375 -7.359375 4.03125 -7.359375 C 2.15625 -7.359375 0.375 -5.609375 0.375 -3.5625 C 0.375 -1.5 2.171875 0.21875 4.03125 0.21875 C 5.65625 0.21875 6.796875 -1.328125 6.796875 -2.484375 Z M 6.796875 -2.484375 \"/>\n",
       "</symbol>\n",
       "</g>\n",
       "</defs>\n",
       "<g id=\"surface1\">\n",
       "<path style=\"fill:none;stroke-width:0.3985;stroke-linecap:butt;stroke-linejoin:miter;stroke:rgb(0%,0%,0%);stroke-opacity:1;stroke-miterlimit:10;\" d=\"M 0.00159375 -7.085344 L 0.00159375 -20.968156 \" transform=\"matrix(1,0,0,-1,7.057,6.942)\"/>\n",
       "<path style=\"fill:none;stroke-width:0.31879;stroke-linecap:round;stroke-linejoin:round;stroke:rgb(0%,0%,0%);stroke-opacity:1;stroke-miterlimit:10;\" d=\"M -1.193586 1.595344 C -1.09593 0.997688 0.00172625 0.09925 0.298601 0.00159375 C 0.00172625 -0.0999687 -1.09593 -0.9945 -1.193586 -1.592156 \" transform=\"matrix(0,1,1,0,7.057,27.90843)\"/>\n",
       "<g style=\"fill:rgb(0%,0%,0%);fill-opacity:1;\">\n",
       "  <use xlink:href=\"#glyph-1451602555382303-0-1\" x=\"3.321\" y=\"10.508\"/>\n",
       "</g>\n",
       "<g style=\"fill:rgb(0%,0%,0%);fill-opacity:1;\">\n",
       "  <use xlink:href=\"#glyph-1451602555382303-0-2\" x=\"3.53\" y=\"38.69\"/>\n",
       "</g>\n",
       "<g style=\"fill:rgb(0%,0%,0%);fill-opacity:1;\">\n",
       "  <use xlink:href=\"#glyph-1451602555382303-0-3\" x=\"32.776\" y=\"10.344\"/>\n",
       "</g>\n",
       "</g>\n",
       "</svg>\n",
       "\n"
      ],
      "text/plain": [
       "BayesNets.BayesNet({3, 1} directed graph,[BayesNets.BayesNetNode(:A,BayesNets.CPDs.DiscreteDomain(Bool[false,true]),BayesNets.CPDs.Bernoulli((anonymous function))),BayesNets.BayesNetNode(:B,BayesNets.CPDs.DiscreteDomain(Bool[false,true]),BayesNets.CPDs.Bernoulli((anonymous function))),BayesNets.BayesNetNode(:C,BayesNets.CPDs.DiscreteDomain(Bool[false,true]),BayesNets.CPDs.Bernoulli((anonymous function)))],Dict(:C=>3,:B=>2,:A=>1))"
      ]
     },
     "execution_count": 23,
     "metadata": {},
     "output_type": "execute_result"
    }
   ],
   "source": [
    "bn = BayesNet([:A, :B, :C])\n",
    "add_edge!(bn, :A, :B)\n",
    "set_CPD!(bn, :A, CPDs.Bernoulli(0.5))\n",
    "set_CPD!(bn, :B, CPDs.Bernoulli(m->(m[:A] ? 0.5 : 0.45)))\n",
    "set_CPD!(bn, :C, CPDs.Bernoulli(0.5))\n",
    "bn"
   ]
  },
  {
   "cell_type": "code",
   "execution_count": 26,
   "metadata": {
    "collapsed": false
   },
   "outputs": [
    {
     "data": {
      "text/html": [
       "<table class=\"data-frame\"><tr><th></th><th>A</th><th>B</th><th>C</th></tr><tr><th>1</th><td>false</td><td>true</td><td>false</td></tr><tr><th>2</th><td>true</td><td>true</td><td>true</td></tr><tr><th>3</th><td>false</td><td>false</td><td>true</td></tr><tr><th>4</th><td>false</td><td>false</td><td>false</td></tr><tr><th>5</th><td>true</td><td>true</td><td>true</td></tr></table>"
      ],
      "text/plain": [
       "5x3 DataFrames.DataFrame\n",
       "| Row | A     | B     | C     |\n",
       "|-----|-------|-------|-------|\n",
       "| 1   | false | true  | false |\n",
       "| 2   | true  | true  | true  |\n",
       "| 3   | false | false | true  |\n",
       "| 4   | false | false | false |\n",
       "| 5   | true  | true  | true  |"
      ]
     },
     "execution_count": 26,
     "metadata": {},
     "output_type": "execute_result"
    }
   ],
   "source": [
    "d = rand_table(bn, numSamples=5) # generate a dataset"
   ]
  },
  {
   "cell_type": "code",
   "execution_count": 28,
   "metadata": {
    "collapsed": false
   },
   "outputs": [
    {
     "data": {
      "text/html": [
       "<table class=\"data-frame\"><tr><th></th><th>A</th><th>count</th></tr><tr><th>1</th><td>false</td><td>3</td></tr><tr><th>2</th><td>true</td><td>2</td></tr></table><table class=\"data-frame\"><tr><th></th><th>A</th><th>B</th><th>count</th></tr><tr><th>1</th><td>false</td><td>true</td><td>1</td></tr><tr><th>2</th><td>true</td><td>true</td><td>2</td></tr><tr><th>3</th><td>false</td><td>false</td><td>2</td></tr></table><table class=\"data-frame\"><tr><th></th><th>C</th><th>count</th></tr><tr><th>1</th><td>false</td><td>2</td></tr><tr><th>2</th><td>true</td><td>3</td></tr></table>"
      ],
      "text/plain": [
       "3-element Array{DataFrames.DataFrame,1}:\n",
       " 2x2 DataFrames.DataFrame\n",
       "| Row | A     | count |\n",
       "|-----|-------|-------|\n",
       "| 1   | false | 3     |\n",
       "| 2   | true  | 2     |                                                                \n",
       " 3x3 DataFrames.DataFrame\n",
       "| Row | A     | B     | count |\n",
       "|-----|-------|-------|-------|\n",
       "| 1   | false | true  | 1     |\n",
       "| 2   | true  | true  | 2     |\n",
       "| 3   | false | false | 2     |\n",
       " 2x2 DataFrames.DataFrame\n",
       "| Row | C     | count |\n",
       "|-----|-------|-------|\n",
       "| 1   | false | 2     |\n",
       "| 2   | true  | 3     |                                                                "
      ]
     },
     "execution_count": 28,
     "metadata": {},
     "output_type": "execute_result"
    }
   ],
   "source": [
    "count(bn, d) # extract the number of times assignments occur for each variable"
   ]
  },
  {
   "cell_type": "code",
   "execution_count": 30,
   "metadata": {
    "collapsed": false
   },
   "outputs": [
    {
     "data": {
      "text/plain": [
       "-11.772208062900312"
      ]
     },
     "execution_count": 30,
     "metadata": {},
     "output_type": "execute_result"
    }
   ],
   "source": [
    "log_bayes_score(bn, d) # compute the log Bayesian score for the Bayesian Network on a dataset"
   ]
  },
  {
   "cell_type": "code",
   "execution_count": 31,
   "metadata": {
    "collapsed": false
   },
   "outputs": [
    {
     "data": {
      "image/svg+xml": [
       "<?xml version=\"1.0\" encoding=\"UTF-8\"?>\n",
       "<svg xmlns=\"http://www.w3.org/2000/svg\" xmlns:xlink=\"http://www.w3.org/1999/xlink\" width=\"72.327pt\" height=\"13.884pt\" viewBox=\"0 0 72.327 13.884\" version=\"1.1\">\n",
       "<defs>\n",
       "<g>\n",
       "<symbol overflow=\"visible\" id=\"glyph-1451602555382304-0-0\">\n",
       "<path style=\"stroke:none;\" d=\"\"/>\n",
       "</symbol>\n",
       "<symbol overflow=\"visible\" id=\"glyph-1451602555382304-0-1\">\n",
       "<path style=\"stroke:none;\" d=\"M 7.3125 -0.15625 L 7.3125 -0.640625 L 6.96875 -0.640625 C 6.375 -0.640625 6.40625 -0.53125 6.296875 -0.875 L 4.140625 -7.09375 C 4.09375 -7.234375 3.890625 -7.46875 3.734375 -7.46875 C 3.578125 -7.46875 3.375 -7.25 3.3125 -7.109375 L 1.25 -1.140625 C 1.078125 -0.640625 0.859375 -0.640625 0.140625 -0.640625 L 0.140625 0.015625 L 1.328125 -0.03125 L 2.65625 0.015625 L 2.65625 -0.640625 C 1.984375 -0.640625 1.90625 -0.71875 1.90625 -0.984375 C 1.90625 -1 1.859375 -1 1.90625 -1.09375 L 2.328125 -2.265625 L 4.5625 -2.265625 L 5.03125 -0.90625 C 5.03125 -0.875 5.046875 -0.8125 5.046875 -0.765625 C 5.046875 -0.46875 4.671875 -0.640625 4.234375 -0.640625 L 4.234375 0.015625 C 4.765625 -0.03125 5.46875 -0.03125 5.84375 -0.03125 L 7.3125 0.015625 Z M 4.5625 -2.90625 L 2.546875 -2.90625 L 3.609375 -5.984375 L 3.265625 -5.984375 L 4.328125 -2.90625 Z M 4.5625 -2.90625 \"/>\n",
       "</symbol>\n",
       "<symbol overflow=\"visible\" id=\"glyph-1451602555382304-0-2\">\n",
       "<path style=\"stroke:none;\" d=\"M 6.65625 -1.984375 C 6.65625 -2.84375 5.671875 -3.765625 4.5625 -3.890625 L 4.5625 -3.5625 C 5.53125 -3.75 6.390625 -4.546875 6.390625 -5.28125 C 6.390625 -6.15625 5.296875 -7.140625 4 -7.140625 L 0.171875 -7.140625 L 0.171875 -6.5 L 0.59375 -6.5 C 1.359375 -6.5 1.203125 -6.546875 1.203125 -6.1875 L 1.203125 -0.9375 C 1.203125 -0.578125 1.359375 -0.640625 0.59375 -0.640625 L 0.171875 -0.640625 L 0.171875 0 L 4.265625 0 C 5.59375 0 6.65625 -1.046875 6.65625 -1.984375 Z M 5.078125 -5.28125 C 5.078125 -4.640625 4.765625 -3.984375 3.65625 -3.984375 L 2.375 -3.984375 L 2.375 -6.265625 C 2.375 -6.59375 2.234375 -6.5 2.703125 -6.5 L 3.9375 -6.5 C 4.90625 -6.5 5.078125 -5.8125 5.078125 -5.28125 Z M 5.3125 -2 C 5.3125 -1.28125 4.96875 -0.640625 3.953125 -0.640625 L 2.703125 -0.640625 C 2.234375 -0.640625 2.375 -0.53125 2.375 -0.875 L 2.375 -3.421875 L 4.09375 -3.421875 C 5.078125 -3.421875 5.3125 -2.65625 5.3125 -2 Z M 5.3125 -2 \"/>\n",
       "</symbol>\n",
       "<symbol overflow=\"visible\" id=\"glyph-1451602555382304-0-3\">\n",
       "<path style=\"stroke:none;\" d=\"M 6.796875 -2.484375 C 6.796875 -2.578125 6.625 -2.828125 6.5 -2.828125 C 6.390625 -2.828125 6.203125 -2.609375 6.203125 -2.5 C 6.125 -1.078125 5.234375 -0.421875 4.140625 -0.421875 C 3.53125 -0.421875 1.75 -0.59375 1.75 -3.5625 C 1.75 -6.546875 3.53125 -6.71875 4.140625 -6.71875 C 5.21875 -6.71875 5.9375 -5.96875 6.125 -4.515625 C 6.15625 -4.375 6.328125 -4.1875 6.46875 -4.1875 C 6.625 -4.1875 6.796875 -4.375 6.796875 -4.578125 L 6.796875 -6.953125 C 6.796875 -7.125 6.625 -7.359375 6.515625 -7.359375 C 6.484375 -7.359375 6.3125 -7.3125 6.234375 -7.1875 L 5.828125 -6.59375 C 5.609375 -6.8125 4.984375 -7.359375 4.03125 -7.359375 C 2.15625 -7.359375 0.375 -5.609375 0.375 -3.5625 C 0.375 -1.5 2.171875 0.21875 4.03125 0.21875 C 5.65625 0.21875 6.796875 -1.328125 6.796875 -2.484375 Z M 6.796875 -2.484375 \"/>\n",
       "</symbol>\n",
       "</g>\n",
       "</defs>\n",
       "<g id=\"surface1\">\n",
       "<g style=\"fill:rgb(0%,0%,0%);fill-opacity:1;\">\n",
       "  <use xlink:href=\"#glyph-1451602555382304-0-1\" x=\"3.321\" y=\"10.509\"/>\n",
       "</g>\n",
       "<g style=\"fill:rgb(0%,0%,0%);fill-opacity:1;\">\n",
       "  <use xlink:href=\"#glyph-1451602555382304-0-2\" x=\"32.776\" y=\"10.344\"/>\n",
       "</g>\n",
       "<g style=\"fill:rgb(0%,0%,0%);fill-opacity:1;\">\n",
       "  <use xlink:href=\"#glyph-1451602555382304-0-3\" x=\"61.813\" y=\"10.344\"/>\n",
       "</g>\n",
       "</g>\n",
       "</svg>\n",
       "\n"
      ],
      "text/plain": [
       "BayesNets.BayesNet({3, 0} directed graph,[BayesNets.BayesNetNode(:A,BayesNets.CPDs.DiscreteDomain(Bool[false,true]),BayesNets.CPDs.Bernoulli((anonymous function))),BayesNets.BayesNetNode(:B,BayesNets.CPDs.DiscreteDomain(Bool[false,true]),BayesNets.CPDs.Bernoulli((anonymous function))),BayesNets.BayesNetNode(:C,BayesNets.CPDs.DiscreteDomain(Bool[false,true]),BayesNets.CPDs.Bernoulli((anonymous function)))],Dict(:C=>3,:B=>2,:A=>1))"
      ]
     },
     "execution_count": 31,
     "metadata": {},
     "output_type": "execute_result"
    }
   ],
   "source": [
    "bn = BayesNet([:A, :B, :C])"
   ]
  },
  {
   "cell_type": "code",
   "execution_count": 35,
   "metadata": {
    "collapsed": false
   },
   "outputs": [
    {
     "data": {
      "text/plain": [
       "-12.283033686666304"
      ]
     },
     "execution_count": 35,
     "metadata": {},
     "output_type": "execute_result"
    }
   ],
   "source": [
    "log_bayes_score(bn, d) # poor structures will produce lower Bayesian scores"
   ]
  }
 ],
 "metadata": {
  "kernelspec": {
   "display_name": "Julia 0.4.2",
   "language": "julia",
   "name": "julia-0.4"
  },
  "language_info": {
   "file_extension": ".jl",
   "mimetype": "application/julia",
   "name": "julia",
   "version": "0.4.2"
  }
 },
 "nbformat": 4,
 "nbformat_minor": 0
}
