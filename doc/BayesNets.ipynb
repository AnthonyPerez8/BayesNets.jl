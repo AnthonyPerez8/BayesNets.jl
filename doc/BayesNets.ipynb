{
 "metadata": {
  "language": "Julia",
  "name": "",
  "signature": "sha256:c47ad9f6373027a200034a8d5cd990c31c31df72ae651b241fd10ddf8b632b1d"
 },
 "nbformat": 3,
 "nbformat_minor": 0,
 "worksheets": [
  {
   "cells": [
    {
     "cell_type": "heading",
     "level": 1,
     "metadata": {},
     "source": [
      "Bayes Nets"
     ]
    },
    {
     "cell_type": "markdown",
     "metadata": {},
     "source": [
      "To install, run `Pkg.add(\"BayesNets\")`. Visualization of Network structure is provided by the TikzGraphs package. Installation requirements (e.g., PGF/Tikz and pdf2svg) are provided [here](http://nbviewer.ipython.org/github/sisl/TikzGraphs.jl/blob/master/doc/TikzGraphs.ipynb)."
     ]
    },
    {
     "cell_type": "code",
     "collapsed": false,
     "input": [
      "using BayesNets"
     ],
     "language": "python",
     "metadata": {},
     "outputs": [],
     "prompt_number": 1
    },
    {
     "cell_type": "heading",
     "level": 2,
     "metadata": {},
     "source": [
      "Representation"
     ]
    },
    {
     "cell_type": "code",
     "collapsed": false,
     "input": [
      "b = BayesNet([:B, :S, :E, :D, :C])\n",
      "addEdges!(b, [(:B, :E), (:S, :E), (:E, :D), (:E, :C)])"
     ],
     "language": "python",
     "metadata": {},
     "outputs": [
      {
       "metadata": {},
       "output_type": "pyout",
       "prompt_number": 2,
       "svg": [
        "<?xml version=\"1.0\" encoding=\"UTF-8\"?>\n",
        "<svg xmlns=\"http://www.w3.org/2000/svg\" xmlns:xlink=\"http://www.w3.org/1999/xlink\" width=\"42.39pt\" height=\"70.142pt\" viewBox=\"0 0 42.39 70.142\" version=\"1.1\">\n",
        "<defs>\n",
        "<g>\n",
        "<symbol overflow=\"visible\" id=\"glyph-1201539531-0-0\">\n",
        "<path style=\"stroke:none;\" d=\"\"/>\n",
        "</symbol>\n",
        "<symbol overflow=\"visible\" id=\"glyph-1201539531-0-1\">\n",
        "<path style=\"stroke:none;\" d=\"M 2.21875 -3.65625 L 2.21875 -6.09375 C 2.21875 -6.4375 2.234375 -6.5 2.703125 -6.5 L 3.9375 -6.5 C 4.90625 -6.5 5.25 -5.65625 5.25 -5.125 C 5.25 -4.484375 4.765625 -3.65625 3.65625 -3.65625 Z M 4.5625 -3.5625 C 5.53125 -3.75 6.21875 -4.390625 6.21875 -5.125 C 6.21875 -5.984375 5.296875 -6.8125 4 -6.8125 L 0.359375 -6.8125 L 0.359375 -6.5 L 0.59375 -6.5 C 1.359375 -6.5 1.390625 -6.390625 1.390625 -6.03125 L 1.390625 -0.78125 C 1.390625 -0.421875 1.359375 -0.3125 0.59375 -0.3125 L 0.359375 -0.3125 L 0.359375 0 L 4.265625 0 C 5.59375 0 6.484375 -0.890625 6.484375 -1.828125 C 6.484375 -2.6875 5.671875 -3.4375 4.5625 -3.5625 Z M 3.953125 -0.3125 L 2.703125 -0.3125 C 2.234375 -0.3125 2.21875 -0.375 2.21875 -0.703125 L 2.21875 -3.421875 L 4.09375 -3.421875 C 5.078125 -3.421875 5.5 -2.5 5.5 -1.828125 C 5.5 -1.125 4.96875 -0.3125 3.953125 -0.3125 Z M 3.953125 -0.3125 \"/>\n",
        "</symbol>\n",
        "<symbol overflow=\"visible\" id=\"glyph-1201539531-0-2\">\n",
        "<path style=\"stroke:none;\" d=\"M 1.359375 -0.78125 C 1.359375 -0.421875 1.328125 -0.3125 0.5625 -0.3125 L 0.328125 -0.3125 L 0.328125 0 L 6.078125 0 L 6.5 -2.578125 L 6.25 -2.578125 C 6 -1.03125 5.765625 -0.3125 4.0625 -0.3125 L 2.734375 -0.3125 C 2.265625 -0.3125 2.25 -0.375 2.25 -0.703125 L 2.25 -3.375 L 3.140625 -3.375 C 4.109375 -3.375 4.21875 -3.046875 4.21875 -2.203125 L 4.46875 -2.203125 L 4.46875 -4.84375 L 4.21875 -4.84375 C 4.21875 -3.984375 4.109375 -3.671875 3.140625 -3.671875 L 2.25 -3.671875 L 2.25 -6.078125 C 2.25 -6.40625 2.265625 -6.46875 2.734375 -6.46875 L 4.015625 -6.46875 C 5.546875 -6.46875 5.8125 -5.921875 5.96875 -4.53125 L 6.21875 -4.53125 L 5.9375 -6.78125 L 0.328125 -6.78125 L 0.328125 -6.46875 L 0.5625 -6.46875 C 1.328125 -6.46875 1.359375 -6.359375 1.359375 -6 Z M 1.359375 -0.78125 \"/>\n",
        "</symbol>\n",
        "<symbol overflow=\"visible\" id=\"glyph-1201539531-0-3\">\n",
        "<path style=\"stroke:none;\" d=\"M 3.484375 -3.875 L 2.203125 -4.171875 C 1.578125 -4.328125 1.203125 -4.859375 1.203125 -5.4375 C 1.203125 -6.140625 1.734375 -6.75 2.515625 -6.75 C 4.171875 -6.75 4.390625 -5.109375 4.453125 -4.671875 C 4.46875 -4.609375 4.46875 -4.546875 4.578125 -4.546875 C 4.703125 -4.546875 4.703125 -4.59375 4.703125 -4.78125 L 4.703125 -6.78125 C 4.703125 -6.953125 4.703125 -7.03125 4.59375 -7.03125 C 4.53125 -7.03125 4.515625 -7.015625 4.453125 -6.890625 L 4.09375 -6.328125 C 3.796875 -6.625 3.390625 -7.03125 2.5 -7.03125 C 1.390625 -7.03125 0.5625 -6.15625 0.5625 -5.09375 C 0.5625 -4.265625 1.09375 -3.53125 1.859375 -3.265625 C 1.96875 -3.234375 2.484375 -3.109375 3.1875 -2.9375 C 3.453125 -2.875 3.75 -2.796875 4.03125 -2.4375 C 4.234375 -2.171875 4.34375 -1.84375 4.34375 -1.515625 C 4.34375 -0.8125 3.84375 -0.09375 3 -0.09375 C 2.71875 -0.09375 1.953125 -0.140625 1.421875 -0.625 C 0.84375 -1.171875 0.8125 -1.796875 0.8125 -2.15625 C 0.796875 -2.265625 0.71875 -2.265625 0.6875 -2.265625 C 0.5625 -2.265625 0.5625 -2.1875 0.5625 -2.015625 L 0.5625 -0.015625 C 0.5625 0.15625 0.5625 0.21875 0.671875 0.21875 C 0.734375 0.21875 0.75 0.203125 0.8125 0.09375 C 0.8125 0.078125 0.84375 0.046875 1.171875 -0.484375 C 1.484375 -0.140625 2.125 0.21875 3.015625 0.21875 C 4.171875 0.21875 4.96875 -0.75 4.96875 -1.859375 C 4.96875 -2.84375 4.3125 -3.671875 3.484375 -3.875 Z M 3.484375 -3.875 \"/>\n",
        "</symbol>\n",
        "<symbol overflow=\"visible\" id=\"glyph-1201539531-0-4\">\n",
        "<path style=\"stroke:none;\" d=\"M 0.34375 -6.8125 L 0.34375 -6.5 L 0.59375 -6.5 C 1.359375 -6.5 1.375 -6.390625 1.375 -6.03125 L 1.375 -0.78125 C 1.375 -0.421875 1.359375 -0.3125 0.59375 -0.3125 L 0.34375 -0.3125 L 0.34375 0 L 4 0 C 5.671875 0 7.046875 -1.46875 7.046875 -3.34375 C 7.046875 -5.25 5.703125 -6.8125 4 -6.8125 Z M 2.71875 -0.3125 C 2.25 -0.3125 2.234375 -0.375 2.234375 -0.703125 L 2.234375 -6.09375 C 2.234375 -6.4375 2.25 -6.5 2.71875 -6.5 L 3.71875 -6.5 C 4.34375 -6.5 5.03125 -6.28125 5.53125 -5.578125 C 5.96875 -4.984375 6.046875 -4.125 6.046875 -3.34375 C 6.046875 -2.25 5.859375 -1.640625 5.5 -1.15625 C 5.296875 -0.890625 4.734375 -0.3125 3.734375 -0.3125 Z M 2.71875 -0.3125 \"/>\n",
        "</symbol>\n",
        "<symbol overflow=\"visible\" id=\"glyph-1201539531-0-5\">\n",
        "<path style=\"stroke:none;\" d=\"M 0.5625 -3.40625 C 0.5625 -1.34375 2.171875 0.21875 4.03125 0.21875 C 5.65625 0.21875 6.625 -1.171875 6.625 -2.328125 C 6.625 -2.421875 6.625 -2.5 6.5 -2.5 C 6.390625 -2.5 6.390625 -2.4375 6.375 -2.328125 C 6.296875 -0.90625 5.234375 -0.09375 4.140625 -0.09375 C 3.53125 -0.09375 1.578125 -0.421875 1.578125 -3.40625 C 1.578125 -6.375 3.53125 -6.71875 4.140625 -6.71875 C 5.21875 -6.71875 6.109375 -5.8125 6.3125 -4.359375 C 6.328125 -4.21875 6.328125 -4.1875 6.46875 -4.1875 C 6.625 -4.1875 6.625 -4.21875 6.625 -4.421875 L 6.625 -6.78125 C 6.625 -6.953125 6.625 -7.03125 6.515625 -7.03125 C 6.484375 -7.03125 6.4375 -7.03125 6.359375 -6.90625 L 5.859375 -6.171875 C 5.5 -6.53125 4.984375 -7.03125 4.03125 -7.03125 C 2.15625 -7.03125 0.5625 -5.4375 0.5625 -3.40625 Z M 0.5625 -3.40625 \"/>\n",
        "</symbol>\n",
        "</g>\n",
        "</defs>\n",
        "<g id=\"surface1\">\n",
        "<path style=\"fill:none;stroke-width:0.3985;stroke-linecap:butt;stroke-linejoin:miter;stroke:rgb(0%,0%,0%);stroke-opacity:1;stroke-miterlimit:10;\" d=\"M 3.459938 -6.923437 L 10.506813 -21.013281 \" transform=\"matrix(1,0,0,-1,7.126,6.725)\"/>\n",
        "<path style=\"fill:none;stroke-width:0.31879;stroke-linecap:round;stroke-linejoin:round;stroke:rgb(0%,0%,0%);stroke-opacity:1;stroke-miterlimit:10;\" d=\"M -1.196745 1.59572 C -1.095838 0.997171 0.000321954 0.101071 0.297854 0.00014781 C 0.000318389 -0.0990247 -1.095874 -0.995086 -1.195062 -1.593631 \" transform=\"matrix(0.44902,0.898,0.898,-0.44902,17.63175,27.7365)\"/>\n",
        "<path style=\"fill:none;stroke-width:0.3985;stroke-linecap:butt;stroke-linejoin:miter;stroke:rgb(0%,0%,0%);stroke-opacity:1;stroke-miterlimit:10;\" d=\"M 24.885719 -6.923437 L 17.84275 -21.013281 \" transform=\"matrix(1,0,0,-1,7.126,6.725)\"/>\n",
        "<path style=\"fill:none;stroke-width:0.31879;stroke-linecap:round;stroke-linejoin:round;stroke:rgb(0%,0%,0%);stroke-opacity:1;stroke-miterlimit:10;\" d=\"M -1.194553 1.592612 C -1.097104 0.997547 0.000827868 0.0980058 0.298363 -0.00116672 C -0.000908591 -0.0986099 -1.097069 -0.99471 -1.197976 -1.593259 \" transform=\"matrix(-0.44902,0.898,0.898,0.44902,24.96705,27.7365)\"/>\n",
        "<path style=\"fill:none;stroke-width:0.3985;stroke-linecap:butt;stroke-linejoin:miter;stroke:rgb(0%,0%,0%);stroke-opacity:1;stroke-miterlimit:10;\" d=\"M 10.709938 -35.271094 L 3.666969 -49.357031 \" transform=\"matrix(1,0,0,-1,7.126,6.725)\"/>\n",
        "<path style=\"fill:none;stroke-width:0.31879;stroke-linecap:round;stroke-linejoin:round;stroke:rgb(0%,0%,0%);stroke-opacity:1;stroke-miterlimit:10;\" d=\"M -1.194469 1.594352 C -1.095281 0.995807 0.000911355 0.0997458 0.298447 0.000573241 C 0.00091492 -0.10035 -1.095245 -0.99645 -1.196152 -1.594999 \" transform=\"matrix(-0.44902,0.898,0.898,0.44902,10.79365,56.0833)\"/>\n",
        "<path style=\"fill:none;stroke-width:0.3985;stroke-linecap:butt;stroke-linejoin:miter;stroke:rgb(0%,0%,0%);stroke-opacity:1;stroke-miterlimit:10;\" d=\"M 17.635719 -35.271094 L 24.678688 -49.357031 \" transform=\"matrix(1,0,0,-1,7.126,6.725)\"/>\n",
        "<path style=\"fill:none;stroke-width:0.31879;stroke-linecap:round;stroke-linejoin:round;stroke:rgb(0%,0%,0%);stroke-opacity:1;stroke-miterlimit:10;\" d=\"M -1.196657 1.593989 C -1.09575 0.99544 0.000409895 0.0993399 0.297942 -0.00158325 C 0.00040633 -0.100756 -1.095786 -0.996817 -1.194974 -1.595362 \" transform=\"matrix(0.44902,0.898,0.898,-0.44902,31.80514,56.0833)\"/>\n",
        "<g style=\"fill:rgb(0%,0%,0%);fill-opacity:1;\">\n",
        "  <use xlink:href=\"#glyph-1201539531-0-1\" x=\"3.597\" y=\"10.129\"/>\n",
        "</g>\n",
        "<g style=\"fill:rgb(0%,0%,0%);fill-opacity:1;\">\n",
        "  <use xlink:href=\"#glyph-1201539531-0-2\" x=\"17.909\" y=\"38.475\"/>\n",
        "</g>\n",
        "<g style=\"fill:rgb(0%,0%,0%);fill-opacity:1;\">\n",
        "  <use xlink:href=\"#glyph-1201539531-0-3\" x=\"32.705\" y=\"10.129\"/>\n",
        "</g>\n",
        "<g style=\"fill:rgb(0%,0%,0%);fill-opacity:1;\">\n",
        "  <use xlink:href=\"#glyph-1201539531-0-4\" x=\"3.321\" y=\"66.821\"/>\n",
        "</g>\n",
        "<g style=\"fill:rgb(0%,0%,0%);fill-opacity:1;\">\n",
        "  <use xlink:href=\"#glyph-1201539531-0-5\" x=\"31.875\" y=\"66.821\"/>\n",
        "</g>\n",
        "</g>\n",
        "</svg>\n",
        "\n"
       ],
       "text": [
        "BayesNet(Directed Graph (5 vertices, 4 edges),CPD[Bernoulli((anonymous function)),Bernoulli((anonymous function)),Bernoulli((anonymous function)),Bernoulli((anonymous function)),Bernoulli((anonymous function))],[:D=>4,:B=>1,:C=>5,:E=>3,:S=>2],[:B,:S,:E,:D,:C],Domain[DiscreteDomain(Bool[false,true]),DiscreteDomain(Bool[false,true]),DiscreteDomain(Bool[false,true]),DiscreteDomain(Bool[false,true]),DiscreteDomain(Bool[false,true])])"
       ]
      }
     ],
     "prompt_number": 2
    },
    {
     "cell_type": "code",
     "collapsed": false,
     "input": [
      "srand(0) # seed the random number generator to 0\n",
      "setCPD!(b, :B, CPDs.Bernoulli(0.1))\n",
      "setCPD!(b, :S, CPDs.Bernoulli(0.5))\n",
      "setCPD!(b, :E, CPDs.Bernoulli([:B, :S], randBernoulliDict(2)))\n",
      "setCPD!(b, :D, CPDs.Bernoulli([:E], randBernoulliDict(1)))\n",
      "setCPD!(b, :C, CPDs.Bernoulli([:E], randBernoulliDict(1)));"
     ],
     "language": "python",
     "metadata": {},
     "outputs": [],
     "prompt_number": 3
    },
    {
     "cell_type": "code",
     "collapsed": false,
     "input": [
      "parents(b, :E)"
     ],
     "language": "python",
     "metadata": {},
     "outputs": [
      {
       "metadata": {},
       "output_type": "pyout",
       "prompt_number": 4,
       "text": [
        "2-element Array{Symbol,1}:\n",
        " :B\n",
        " :S"
       ]
      }
     ],
     "prompt_number": 4
    },
    {
     "cell_type": "code",
     "collapsed": false,
     "input": [
      "domain(b, :C)"
     ],
     "language": "python",
     "metadata": {},
     "outputs": [
      {
       "metadata": {},
       "output_type": "pyout",
       "prompt_number": 5,
       "text": [
        "DiscreteDomain(Bool[false,true])"
       ]
      }
     ],
     "prompt_number": 5
    },
    {
     "cell_type": "heading",
     "level": 2,
     "metadata": {},
     "source": [
      "Tables and Operations (for discrete variables)"
     ]
    },
    {
     "cell_type": "code",
     "collapsed": false,
     "input": [
      "table(b, :D)"
     ],
     "language": "python",
     "metadata": {},
     "outputs": [
      {
       "html": [
        "<table class=\"data-frame\"><tr><th></th><th>E</th><th>D</th><th>p</th></tr><tr><th>1</th><td>false</td><td>false</td><td>0.72</td></tr><tr><th>2</th><td>true</td><td>false</td><td>0.79</td></tr><tr><th>3</th><td>false</td><td>true</td><td>0.28</td></tr><tr><th>4</th><td>true</td><td>true</td><td>0.21</td></tr></table>"
       ],
       "metadata": {},
       "output_type": "pyout",
       "prompt_number": 6,
       "text": [
        "4x3 DataFrame\n",
        "|-------|-------|-------|------|\n",
        "| Row # | E     | D     | p    |\n",
        "| 1     | false | false | 0.72 |\n",
        "| 2     | true  | false | 0.79 |\n",
        "| 3     | false | true  | 0.28 |\n",
        "| 4     | true  | true  | 0.21 |"
       ]
      }
     ],
     "prompt_number": 6
    },
    {
     "cell_type": "code",
     "collapsed": false,
     "input": [
      "table(b, :B)"
     ],
     "language": "python",
     "metadata": {},
     "outputs": [
      {
       "html": [
        "<table class=\"data-frame\"><tr><th></th><th>B</th><th>p</th></tr><tr><th>1</th><td>false</td><td>0.9</td></tr><tr><th>2</th><td>true</td><td>0.1</td></tr></table>"
       ],
       "metadata": {},
       "output_type": "pyout",
       "prompt_number": 7,
       "text": [
        "2x2 DataFrame\n",
        "|-------|-------|-----|\n",
        "| Row # | B     | p   |\n",
        "| 1     | false | 0.9 |\n",
        "| 2     | true  | 0.1 |"
       ]
      }
     ],
     "prompt_number": 7
    },
    {
     "cell_type": "code",
     "collapsed": false,
     "input": [
      "bt = table(b, :B)\n",
      "st = table(b, :S)\n",
      "et = table(b, :E)\n",
      "tt = bt * et * st"
     ],
     "language": "python",
     "metadata": {},
     "outputs": [
      {
       "html": [
        "<table class=\"data-frame\"><tr><th></th><th>B</th><th>S</th><th>E</th><th>p</th></tr><tr><th>1</th><td>false</td><td>false</td><td>false</td><td>0.08100000000000003</td></tr><tr><th>2</th><td>false</td><td>false</td><td>true</td><td>0.369</td></tr><tr><th>3</th><td>true</td><td>false</td><td>false</td><td>0.004999999999999999</td></tr><tr><th>4</th><td>true</td><td>false</td><td>true</td><td>0.045000000000000005</td></tr><tr><th>5</th><td>false</td><td>true</td><td>false</td><td>0.3735</td></tr><tr><th>6</th><td>false</td><td>true</td><td>true</td><td>0.07650000000000001</td></tr><tr><th>7</th><td>true</td><td>true</td><td>false</td><td>0.04100000000000001</td></tr><tr><th>8</th><td>true</td><td>true</td><td>true</td><td>0.009</td></tr></table>"
       ],
       "metadata": {},
       "output_type": "pyout",
       "prompt_number": 8,
       "text": [
        "8x4 DataFrame\n",
        "|-------|-------|-------|-------|--------|\n",
        "| Row # | B     | S     | E     | p      |\n",
        "| 1     | false | false | false | 0.081  |\n",
        "| 2     | false | false | true  | 0.369  |\n",
        "| 3     | true  | false | false | 0.005  |\n",
        "| 4     | true  | false | true  | 0.045  |\n",
        "| 5     | false | true  | false | 0.3735 |\n",
        "| 6     | false | true  | true  | 0.0765 |\n",
        "| 7     | true  | true  | false | 0.041  |\n",
        "| 8     | true  | true  | true  | 0.009  |"
       ]
      }
     ],
     "prompt_number": 8
    },
    {
     "cell_type": "code",
     "collapsed": false,
     "input": [
      "tt = sumout(tt, [:B, :S])"
     ],
     "language": "python",
     "metadata": {},
     "outputs": [
      {
       "html": [
        "<table class=\"data-frame\"><tr><th></th><th>E</th><th>p</th></tr><tr><th>1</th><td>false</td><td>0.5005000000000001</td></tr><tr><th>2</th><td>true</td><td>0.4995</td></tr></table>"
       ],
       "metadata": {},
       "output_type": "pyout",
       "prompt_number": 9,
       "text": [
        "2x2 DataFrame\n",
        "|-------|-------|--------|\n",
        "| Row # | E     | p      |\n",
        "| 1     | false | 0.5005 |\n",
        "| 2     | true  | 0.4995 |"
       ]
      }
     ],
     "prompt_number": 9
    },
    {
     "cell_type": "heading",
     "level": 2,
     "metadata": {},
     "source": [
      "Computing Probability of Assignment"
     ]
    },
    {
     "cell_type": "code",
     "collapsed": false,
     "input": [
      "a = [\n",
      "    :B=>0,\n",
      "    :S=>1,\n",
      "    :E=>0,\n",
      "    :D=>1,\n",
      "    :C=>1\n",
      "]\n",
      "prob(b, a)"
     ],
     "language": "python",
     "metadata": {},
     "outputs": [
      {
       "metadata": {},
       "output_type": "pyout",
       "prompt_number": 10,
       "text": [
        "0.005229000000000001"
       ]
      }
     ],
     "prompt_number": 10
    },
    {
     "cell_type": "heading",
     "level": 2,
     "metadata": {},
     "source": [
      "Sampling"
     ]
    },
    {
     "cell_type": "code",
     "collapsed": false,
     "input": [
      "rand(b)"
     ],
     "language": "python",
     "metadata": {},
     "outputs": [
      {
       "metadata": {},
       "output_type": "pyout",
       "prompt_number": 11,
       "text": [
        "Dict{Any,Any} with 5 entries:\n",
        "  :D => false\n",
        "  :B => false\n",
        "  :C => false\n",
        "  :E => false\n",
        "  :S => true"
       ]
      }
     ],
     "prompt_number": 11
    },
    {
     "cell_type": "code",
     "collapsed": false,
     "input": [
      "srand(0)\n",
      "randTable(b, numSamples=5)"
     ],
     "language": "python",
     "metadata": {},
     "outputs": [
      {
       "html": [
        "<table class=\"data-frame\"><tr><th></th><th>B</th><th>C</th><th>D</th><th>E</th><th>S</th></tr><tr><th>1</th><td>false</td><td>false</td><td>false</td><td>true</td><td>false</td></tr><tr><th>2</th><td>true</td><td>false</td><td>false</td><td>true</td><td>true</td></tr><tr><th>3</th><td>false</td><td>false</td><td>true</td><td>true</td><td>false</td></tr><tr><th>4</th><td>false</td><td>false</td><td>false</td><td>false</td><td>false</td></tr><tr><th>5</th><td>true</td><td>false</td><td>true</td><td>false</td><td>true</td></tr></table>"
       ],
       "metadata": {},
       "output_type": "pyout",
       "prompt_number": 12,
       "text": [
        "5x5 DataFrame\n",
        "|-------|-------|-------|-------|-------|-------|\n",
        "| Row # | B     | C     | D     | E     | S     |\n",
        "| 1     | false | false | false | true  | false |\n",
        "| 2     | true  | false | false | true  | true  |\n",
        "| 3     | false | false | true  | true  | false |\n",
        "| 4     | false | false | false | false | false |\n",
        "| 5     | true  | false | true  | false | true  |"
       ]
      }
     ],
     "prompt_number": 12
    },
    {
     "cell_type": "code",
     "collapsed": false,
     "input": [
      "srand(0)\n",
      "t = randTable(b, numSamples=10, consistentWith=[:B=>true, :C=>false])"
     ],
     "language": "python",
     "metadata": {},
     "outputs": [
      {
       "html": [
        "<table class=\"data-frame\"><tr><th></th><th>B</th><th>C</th><th>D</th><th>E</th><th>S</th></tr><tr><th>1</th><td>true</td><td>false</td><td>false</td><td>true</td><td>true</td></tr><tr><th>2</th><td>true</td><td>false</td><td>true</td><td>false</td><td>true</td></tr><tr><th>3</th><td>true</td><td>false</td><td>true</td><td>true</td><td>true</td></tr></table>"
       ],
       "metadata": {},
       "output_type": "pyout",
       "prompt_number": 13,
       "text": [
        "3x5 DataFrame\n",
        "|-------|------|-------|-------|-------|------|\n",
        "| Row # | B    | C     | D     | E     | S    |\n",
        "| 1     | true | false | false | true  | true |\n",
        "| 2     | true | false | true  | false | true |\n",
        "| 3     | true | false | true  | true  | true |"
       ]
      }
     ],
     "prompt_number": 13
    },
    {
     "cell_type": "code",
     "collapsed": false,
     "input": [
      "t = randTable(b, numSamples=100, consistentWith=[:B=>true, :C=>false])\n",
      "estimate(t)"
     ],
     "language": "python",
     "metadata": {},
     "outputs": [
      {
       "html": [
        "<table class=\"data-frame\"><tr><th></th><th>B</th><th>C</th><th>D</th><th>E</th><th>S</th><th>p</th></tr><tr><th>1</th><td>true</td><td>false</td><td>false</td><td>false</td><td>true</td><td>0.5</td></tr><tr><th>2</th><td>true</td><td>false</td><td>false</td><td>true</td><td>false</td><td>0.25</td></tr><tr><th>3</th><td>true</td><td>false</td><td>false</td><td>true</td><td>true</td><td>0.25</td></tr></table>"
       ],
       "metadata": {},
       "output_type": "pyout",
       "prompt_number": 14,
       "text": [
        "3x6 DataFrame\n",
        "|-------|------|-------|-------|-------|-------|------|\n",
        "| Row # | B    | C     | D     | E     | S     | p    |\n",
        "| 1     | true | false | false | false | true  | 0.5  |\n",
        "| 2     | true | false | false | true  | false | 0.25 |\n",
        "| 3     | true | false | false | true  | true  | 0.25 |"
       ]
      }
     ],
     "prompt_number": 14
    },
    {
     "cell_type": "heading",
     "level": 2,
     "metadata": {},
     "source": [
      "Structure Learning"
     ]
    },
    {
     "cell_type": "code",
     "collapsed": false,
     "input": [
      "b = BayesNet([:A, :B, :C])\n",
      "addEdge!(b, :A, :B)\n",
      "setCPD!(b, :A, CPDs.Bernoulli(0.5))\n",
      "setCPD!(b, :B, CPDs.Bernoulli(m->(m[:A] ? 0.5 : 0.45)))\n",
      "setCPD!(b, :C, CPDs.Bernoulli(0.5))\n",
      "b"
     ],
     "language": "python",
     "metadata": {},
     "outputs": [
      {
       "metadata": {},
       "output_type": "pyout",
       "prompt_number": 15,
       "svg": [
        "<?xml version=\"1.0\" encoding=\"UTF-8\"?>\n",
        "<svg xmlns=\"http://www.w3.org/2000/svg\" xmlns:xlink=\"http://www.w3.org/1999/xlink\" width=\"43.292pt\" height=\"41.795pt\" viewBox=\"0 0 43.292 41.795\" version=\"1.1\">\n",
        "<defs>\n",
        "<g>\n",
        "<symbol overflow=\"visible\" id=\"glyph-1201539532-0-0\">\n",
        "<path style=\"stroke:none;\" d=\"\"/>\n",
        "</symbol>\n",
        "<symbol overflow=\"visible\" id=\"glyph-1201539532-0-1\">\n",
        "<path style=\"stroke:none;\" d=\"M 3.96875 -6.9375 C 3.921875 -7.0625 3.890625 -7.140625 3.734375 -7.140625 C 3.578125 -7.140625 3.546875 -7.078125 3.5 -6.9375 L 1.4375 -0.984375 C 1.25 -0.46875 0.859375 -0.3125 0.3125 -0.3125 L 0.3125 0 C 0.546875 -0.015625 0.984375 -0.03125 1.328125 -0.03125 C 1.640625 -0.03125 2.15625 -0.015625 2.484375 0 L 2.484375 -0.3125 C 1.984375 -0.3125 1.734375 -0.5625 1.734375 -0.8125 C 1.734375 -0.84375 1.75 -0.953125 1.75 -0.96875 L 2.21875 -2.265625 L 4.671875 -2.265625 L 5.203125 -0.75 C 5.21875 -0.703125 5.234375 -0.640625 5.234375 -0.609375 C 5.234375 -0.3125 4.671875 -0.3125 4.40625 -0.3125 L 4.40625 0 C 4.765625 -0.03125 5.46875 -0.03125 5.84375 -0.03125 C 6.265625 -0.03125 6.734375 -0.015625 7.140625 0 L 7.140625 -0.3125 L 6.96875 -0.3125 C 6.375 -0.3125 6.234375 -0.375 6.125 -0.703125 Z M 3.4375 -5.828125 L 4.5625 -2.578125 L 2.328125 -2.578125 Z M 3.4375 -5.828125 \"/>\n",
        "</symbol>\n",
        "<symbol overflow=\"visible\" id=\"glyph-1201539532-0-2\">\n",
        "<path style=\"stroke:none;\" d=\"M 2.21875 -3.65625 L 2.21875 -6.09375 C 2.21875 -6.4375 2.234375 -6.5 2.703125 -6.5 L 3.9375 -6.5 C 4.90625 -6.5 5.25 -5.65625 5.25 -5.125 C 5.25 -4.484375 4.765625 -3.65625 3.65625 -3.65625 Z M 4.5625 -3.5625 C 5.53125 -3.75 6.21875 -4.390625 6.21875 -5.125 C 6.21875 -5.984375 5.296875 -6.8125 4 -6.8125 L 0.359375 -6.8125 L 0.359375 -6.5 L 0.59375 -6.5 C 1.359375 -6.5 1.390625 -6.390625 1.390625 -6.03125 L 1.390625 -0.78125 C 1.390625 -0.421875 1.359375 -0.3125 0.59375 -0.3125 L 0.359375 -0.3125 L 0.359375 0 L 4.265625 0 C 5.59375 0 6.484375 -0.890625 6.484375 -1.828125 C 6.484375 -2.6875 5.671875 -3.4375 4.5625 -3.5625 Z M 3.953125 -0.3125 L 2.703125 -0.3125 C 2.234375 -0.3125 2.21875 -0.375 2.21875 -0.703125 L 2.21875 -3.421875 L 4.09375 -3.421875 C 5.078125 -3.421875 5.5 -2.5 5.5 -1.828125 C 5.5 -1.125 4.96875 -0.3125 3.953125 -0.3125 Z M 3.953125 -0.3125 \"/>\n",
        "</symbol>\n",
        "<symbol overflow=\"visible\" id=\"glyph-1201539532-0-3\">\n",
        "<path style=\"stroke:none;\" d=\"M 0.5625 -3.40625 C 0.5625 -1.34375 2.171875 0.21875 4.03125 0.21875 C 5.65625 0.21875 6.625 -1.171875 6.625 -2.328125 C 6.625 -2.421875 6.625 -2.5 6.5 -2.5 C 6.390625 -2.5 6.390625 -2.4375 6.375 -2.328125 C 6.296875 -0.90625 5.234375 -0.09375 4.140625 -0.09375 C 3.53125 -0.09375 1.578125 -0.421875 1.578125 -3.40625 C 1.578125 -6.375 3.53125 -6.71875 4.140625 -6.71875 C 5.21875 -6.71875 6.109375 -5.8125 6.3125 -4.359375 C 6.328125 -4.21875 6.328125 -4.1875 6.46875 -4.1875 C 6.625 -4.1875 6.625 -4.21875 6.625 -4.421875 L 6.625 -6.78125 C 6.625 -6.953125 6.625 -7.03125 6.515625 -7.03125 C 6.484375 -7.03125 6.4375 -7.03125 6.359375 -6.90625 L 5.859375 -6.171875 C 5.5 -6.53125 4.984375 -7.03125 4.03125 -7.03125 C 2.15625 -7.03125 0.5625 -5.4375 0.5625 -3.40625 Z M 0.5625 -3.40625 \"/>\n",
        "</symbol>\n",
        "</g>\n",
        "</defs>\n",
        "<g id=\"surface1\">\n",
        "<path style=\"fill:none;stroke-width:0.3985;stroke-linecap:butt;stroke-linejoin:miter;stroke:rgb(0%,0%,0%);stroke-opacity:1;stroke-miterlimit:10;\" d=\"M 0.00159375 -6.924437 L 0.00159375 -20.9635 \" transform=\"matrix(1,0,0,-1,7.057,6.724)\"/>\n",
        "<path style=\"fill:none;stroke-width:0.31879;stroke-linecap:round;stroke-linejoin:round;stroke:rgb(0%,0%,0%);stroke-opacity:1;stroke-miterlimit:10;\" d=\"M -1.196563 1.595344 C -1.095 0.997688 -0.00125 0.09925 0.299531 0.00159375 C -0.00125 -0.0999687 -1.095 -0.9945 -1.196563 -1.592156 \" transform=\"matrix(0,1,1,0,7.057,27.68875)\"/>\n",
        "<g style=\"fill:rgb(0%,0%,0%);fill-opacity:1;\">\n",
        "  <use xlink:href=\"#glyph-1201539532-0-1\" x=\"3.321\" y=\"10.128\"/>\n",
        "</g>\n",
        "<g style=\"fill:rgb(0%,0%,0%);fill-opacity:1;\">\n",
        "  <use xlink:href=\"#glyph-1201539532-0-2\" x=\"3.528\" y=\"38.474\"/>\n",
        "</g>\n",
        "<g style=\"fill:rgb(0%,0%,0%);fill-opacity:1;\">\n",
        "  <use xlink:href=\"#glyph-1201539532-0-3\" x=\"32.776\" y=\"10.128\"/>\n",
        "</g>\n",
        "</g>\n",
        "</svg>\n",
        "\n"
       ],
       "text": [
        "BayesNet(Directed Graph (3 vertices, 1 edges),CPD[Bernoulli((anonymous function)),Bernoulli((anonymous function)),Bernoulli((anonymous function))],[:A=>1,:B=>2,:C=>3],[:A,:B,:C],Domain[DiscreteDomain(Bool[false,true]),DiscreteDomain(Bool[false,true]),DiscreteDomain(Bool[false,true])])"
       ]
      }
     ],
     "prompt_number": 15
    },
    {
     "cell_type": "code",
     "collapsed": false,
     "input": [
      "d = randTable(b, numSamples = 5)"
     ],
     "language": "python",
     "metadata": {},
     "outputs": [
      {
       "html": [
        "<table class=\"data-frame\"><tr><th></th><th>A</th><th>B</th><th>C</th></tr><tr><th>1</th><td>false</td><td>true</td><td>true</td></tr><tr><th>2</th><td>true</td><td>true</td><td>true</td></tr><tr><th>3</th><td>true</td><td>true</td><td>false</td></tr><tr><th>4</th><td>true</td><td>true</td><td>true</td></tr><tr><th>5</th><td>true</td><td>true</td><td>false</td></tr></table>"
       ],
       "metadata": {},
       "output_type": "pyout",
       "prompt_number": 16,
       "text": [
        "5x3 DataFrame\n",
        "|-------|-------|------|-------|\n",
        "| Row # | A     | B    | C     |\n",
        "| 1     | false | true | true  |\n",
        "| 2     | true  | true | true  |\n",
        "| 3     | true  | true | false |\n",
        "| 4     | true  | true | true  |\n",
        "| 5     | true  | true | false |"
       ]
      }
     ],
     "prompt_number": 16
    },
    {
     "cell_type": "code",
     "collapsed": false,
     "input": [
      "count(b, d)"
     ],
     "language": "python",
     "metadata": {},
     "outputs": [
      {
       "html": [
        "<table class=\"data-frame\"><tr><th></th><th>A</th><th>count</th></tr><tr><th>1</th><td>false</td><td>1</td></tr><tr><th>2</th><td>true</td><td>4</td></tr></table><table class=\"data-frame\"><tr><th></th><th>A</th><th>B</th><th>count</th></tr><tr><th>1</th><td>false</td><td>true</td><td>1</td></tr><tr><th>2</th><td>true</td><td>true</td><td>4</td></tr></table><table class=\"data-frame\"><tr><th></th><th>C</th><th>count</th></tr><tr><th>1</th><td>true</td><td>3</td></tr><tr><th>2</th><td>false</td><td>2</td></tr></table>"
       ],
       "metadata": {},
       "output_type": "pyout",
       "prompt_number": 17,
       "text": [
        "3-element Array{DataFrame,1}:\n",
        " 2x2 DataFrame\n",
        "|-------|-------|-------|\n",
        "| Row # | A     | count |\n",
        "| 1     | false | 1     |\n",
        "| 2     | true  | 4     |                            \n",
        " 2x3 DataFrame\n",
        "|-------|-------|------|-------|\n",
        "| Row # | A     | B    | count |\n",
        "| 1     | false | true | 1     |\n",
        "| 2     | true  | true | 4     |\n",
        " 2x2 DataFrame\n",
        "|-------|-------|-------|\n",
        "| Row # | C     | count |\n",
        "| 1     | true  | 3     |\n",
        "| 2     | false | 2     |                            "
       ]
      }
     ],
     "prompt_number": 17
    },
    {
     "cell_type": "code",
     "collapsed": false,
     "input": [
      "prior(b)"
     ],
     "language": "python",
     "metadata": {},
     "outputs": [
      {
       "html": [
        "<table class=\"data-frame\"><tr><th></th><th>A</th><th>count</th></tr><tr><th>1</th><td>false</td><td>1.0</td></tr><tr><th>2</th><td>true</td><td>1.0</td></tr></table><table class=\"data-frame\"><tr><th></th><th>A</th><th>B</th><th>count</th></tr><tr><th>1</th><td>false</td><td>false</td><td>1.0</td></tr><tr><th>2</th><td>true</td><td>false</td><td>1.0</td></tr><tr><th>3</th><td>false</td><td>true</td><td>1.0</td></tr><tr><th>4</th><td>true</td><td>true</td><td>1.0</td></tr></table><table class=\"data-frame\"><tr><th></th><th>C</th><th>count</th></tr><tr><th>1</th><td>false</td><td>1.0</td></tr><tr><th>2</th><td>true</td><td>1.0</td></tr></table>"
       ],
       "metadata": {},
       "output_type": "pyout",
       "prompt_number": 18,
       "text": [
        "3-element Array{DataFrame,1}:\n",
        " 2x2 DataFrame\n",
        "|-------|-------|-------|\n",
        "| Row # | A     | count |\n",
        "| 1     | false | 1.0   |\n",
        "| 2     | true  | 1.0   |                                                                                                    \n",
        " 4x3 DataFrame\n",
        "|-------|-------|-------|-------|\n",
        "| Row # | A     | B     | count |\n",
        "| 1     | false | false | 1.0   |\n",
        "| 2     | true  | false | 1.0   |\n",
        "| 3     | false | true  | 1.0   |\n",
        "| 4     | true  | true  | 1.0   |\n",
        " 2x2 DataFrame\n",
        "|-------|-------|-------|\n",
        "| Row # | C     | count |\n",
        "| 1     | false | 1.0   |\n",
        "| 2     | true  | 1.0   |                                                                                                    "
       ]
      }
     ],
     "prompt_number": 18
    },
    {
     "cell_type": "code",
     "collapsed": false,
     "input": [
      "logBayesScore(b, d)"
     ],
     "language": "python",
     "metadata": {},
     "outputs": [
      {
       "metadata": {},
       "output_type": "pyout",
       "prompt_number": 19,
       "text": [
        "-9.798127036878302"
       ]
      }
     ],
     "prompt_number": 19
    },
    {
     "cell_type": "code",
     "collapsed": false,
     "input": [
      "b = BayesNet([:A, :B, :C])"
     ],
     "language": "python",
     "metadata": {},
     "outputs": [
      {
       "metadata": {},
       "output_type": "pyout",
       "prompt_number": 20,
       "svg": [
        "<?xml version=\"1.0\" encoding=\"UTF-8\"?>\n",
        "<svg xmlns=\"http://www.w3.org/2000/svg\" xmlns:xlink=\"http://www.w3.org/1999/xlink\" width=\"72.332pt\" height=\"13.449pt\" viewBox=\"0 0 72.332 13.449\" version=\"1.1\">\n",
        "<defs>\n",
        "<g>\n",
        "<symbol overflow=\"visible\" id=\"glyph-1201539533-0-0\">\n",
        "<path style=\"stroke:none;\" d=\"\"/>\n",
        "</symbol>\n",
        "<symbol overflow=\"visible\" id=\"glyph-1201539533-0-1\">\n",
        "<path style=\"stroke:none;\" d=\"M 3.96875 -6.9375 C 3.921875 -7.0625 3.890625 -7.140625 3.734375 -7.140625 C 3.578125 -7.140625 3.546875 -7.078125 3.5 -6.9375 L 1.4375 -0.984375 C 1.25 -0.46875 0.859375 -0.3125 0.3125 -0.3125 L 0.3125 0 C 0.546875 -0.015625 0.984375 -0.03125 1.328125 -0.03125 C 1.640625 -0.03125 2.15625 -0.015625 2.484375 0 L 2.484375 -0.3125 C 1.984375 -0.3125 1.734375 -0.5625 1.734375 -0.8125 C 1.734375 -0.84375 1.75 -0.953125 1.75 -0.96875 L 2.21875 -2.265625 L 4.671875 -2.265625 L 5.203125 -0.75 C 5.21875 -0.703125 5.234375 -0.640625 5.234375 -0.609375 C 5.234375 -0.3125 4.671875 -0.3125 4.40625 -0.3125 L 4.40625 0 C 4.765625 -0.03125 5.46875 -0.03125 5.84375 -0.03125 C 6.265625 -0.03125 6.734375 -0.015625 7.140625 0 L 7.140625 -0.3125 L 6.96875 -0.3125 C 6.375 -0.3125 6.234375 -0.375 6.125 -0.703125 Z M 3.4375 -5.828125 L 4.5625 -2.578125 L 2.328125 -2.578125 Z M 3.4375 -5.828125 \"/>\n",
        "</symbol>\n",
        "<symbol overflow=\"visible\" id=\"glyph-1201539533-0-2\">\n",
        "<path style=\"stroke:none;\" d=\"M 2.21875 -3.65625 L 2.21875 -6.09375 C 2.21875 -6.4375 2.234375 -6.5 2.703125 -6.5 L 3.9375 -6.5 C 4.90625 -6.5 5.25 -5.65625 5.25 -5.125 C 5.25 -4.484375 4.765625 -3.65625 3.65625 -3.65625 Z M 4.5625 -3.5625 C 5.53125 -3.75 6.21875 -4.390625 6.21875 -5.125 C 6.21875 -5.984375 5.296875 -6.8125 4 -6.8125 L 0.359375 -6.8125 L 0.359375 -6.5 L 0.59375 -6.5 C 1.359375 -6.5 1.390625 -6.390625 1.390625 -6.03125 L 1.390625 -0.78125 C 1.390625 -0.421875 1.359375 -0.3125 0.59375 -0.3125 L 0.359375 -0.3125 L 0.359375 0 L 4.265625 0 C 5.59375 0 6.484375 -0.890625 6.484375 -1.828125 C 6.484375 -2.6875 5.671875 -3.4375 4.5625 -3.5625 Z M 3.953125 -0.3125 L 2.703125 -0.3125 C 2.234375 -0.3125 2.21875 -0.375 2.21875 -0.703125 L 2.21875 -3.421875 L 4.09375 -3.421875 C 5.078125 -3.421875 5.5 -2.5 5.5 -1.828125 C 5.5 -1.125 4.96875 -0.3125 3.953125 -0.3125 Z M 3.953125 -0.3125 \"/>\n",
        "</symbol>\n",
        "<symbol overflow=\"visible\" id=\"glyph-1201539533-0-3\">\n",
        "<path style=\"stroke:none;\" d=\"M 0.5625 -3.40625 C 0.5625 -1.34375 2.171875 0.21875 4.03125 0.21875 C 5.65625 0.21875 6.625 -1.171875 6.625 -2.328125 C 6.625 -2.421875 6.625 -2.5 6.5 -2.5 C 6.390625 -2.5 6.390625 -2.4375 6.375 -2.328125 C 6.296875 -0.90625 5.234375 -0.09375 4.140625 -0.09375 C 3.53125 -0.09375 1.578125 -0.421875 1.578125 -3.40625 C 1.578125 -6.375 3.53125 -6.71875 4.140625 -6.71875 C 5.21875 -6.71875 6.109375 -5.8125 6.3125 -4.359375 C 6.328125 -4.21875 6.328125 -4.1875 6.46875 -4.1875 C 6.625 -4.1875 6.625 -4.21875 6.625 -4.421875 L 6.625 -6.78125 C 6.625 -6.953125 6.625 -7.03125 6.515625 -7.03125 C 6.484375 -7.03125 6.4375 -7.03125 6.359375 -6.90625 L 5.859375 -6.171875 C 5.5 -6.53125 4.984375 -7.03125 4.03125 -7.03125 C 2.15625 -7.03125 0.5625 -5.4375 0.5625 -3.40625 Z M 0.5625 -3.40625 \"/>\n",
        "</symbol>\n",
        "</g>\n",
        "</defs>\n",
        "<g id=\"surface1\">\n",
        "<g style=\"fill:rgb(0%,0%,0%);fill-opacity:1;\">\n",
        "  <use xlink:href=\"#glyph-1201539533-0-1\" x=\"3.321\" y=\"10.128\"/>\n",
        "</g>\n",
        "<g style=\"fill:rgb(0%,0%,0%);fill-opacity:1;\">\n",
        "  <use xlink:href=\"#glyph-1201539533-0-2\" x=\"32.776\" y=\"10.128\"/>\n",
        "</g>\n",
        "<g style=\"fill:rgb(0%,0%,0%);fill-opacity:1;\">\n",
        "  <use xlink:href=\"#glyph-1201539533-0-3\" x=\"61.816\" y=\"10.128\"/>\n",
        "</g>\n",
        "</g>\n",
        "</svg>\n",
        "\n"
       ],
       "text": [
        "BayesNet(Directed Graph (3 vertices, 0 edges),CPD[Bernoulli((anonymous function)),Bernoulli((anonymous function)),Bernoulli((anonymous function))],[:A=>1,:B=>2,:C=>3],[:A,:B,:C],Domain[DiscreteDomain(Bool[false,true]),DiscreteDomain(Bool[false,true]),DiscreteDomain(Bool[false,true])])"
       ]
      }
     ],
     "prompt_number": 20
    },
    {
     "cell_type": "code",
     "collapsed": false,
     "input": [
      "logBayesScore(b, d)"
     ],
     "language": "python",
     "metadata": {},
     "outputs": [
      {
       "metadata": {},
       "output_type": "pyout",
       "prompt_number": 21,
       "text": [
        "-9.287301413112312"
       ]
      }
     ],
     "prompt_number": 21
    }
   ],
   "metadata": {}
  }
 ]
}